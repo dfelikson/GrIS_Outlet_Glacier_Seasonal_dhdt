{
 "cells": [
  {
   "cell_type": "code",
   "execution_count": 1,
   "id": "right-freedom",
   "metadata": {},
   "outputs": [],
   "source": [
    "#+++++++++++++++++++++++++++++++++++++++++++++++++++++++++++++++++++++++\n",
    "# Script to run and export ISSM inversion\n",
    "# Mikayla Pascual 07/13/22\n",
    "#+++++++++++++++++++++++++++++++++++++++++++++++++++++++++++++++++++++++\n",
    "\n",
    "#import \n",
    "from MatlabFuncs import *\n",
    "from model import *\n",
    "from triangle import *\n",
    "from bamg import bamg\n",
    "from savevars import *\n",
    "import plotdoc\n",
    "from loadmodel import *\n",
    "from os.path import exists\n",
    "\n",
    "from scipy.io import loadmat\n",
    "from m1qn3inversion import *\n",
    "import numpy as np\n",
    "from ContourToNodes import *\n",
    "from solve import *"
   ]
  },
  {
   "cell_type": "code",
   "execution_count": 2,
   "id": "verbal-example",
   "metadata": {},
   "outputs": [],
   "source": [
    "# Load some mat files to use later\n",
    "vel_mat = loadmat('Cheat_matfiles/vel.mat')\n",
    "hmaxVertices_mat = loadmat('Cheat_matfiles/hmaxVertices.mat')\n",
    "param_mat = loadmat('Cheat_matfiles/param.mat')\n",
    "\n",
    "velx = vel_mat['velx']\n",
    "vely = vel_mat['vely']\n",
    "vel = vel_mat['vel']\n",
    "\n",
    "hmaxVertices = hmaxVertices_mat['hmaxVertices']\n"
   ]
  },
  {
   "cell_type": "code",
   "execution_count": 3,
   "id": "excess-tonight",
   "metadata": {},
   "outputs": [],
   "source": [
    "# Setup\n",
    "region = 'SAtoES';\n",
    "start_year = 1985;\n",
    "\n",
    "# Mesh sizing\n",
    "triangleresolution = 1000;\n",
    "hmin = 300;\n",
    "hmax = 10000;\n",
    "\n",
    "# Mesh\n",
    "md = model()\n",
    "md = triangle(md,'./Exp/' +region+ '.exp',triangleresolution) # set up mesh\n",
    "\n",
    "md = bamg(md,'hmin',hmin,'hmax',hmax,'field',vel,'err',2,'hmaxVertices',hmaxVertices);\n",
    "\n",
    "#savevars('./Models/' +region+ '_mesh', 'md', md)\n",
    "\n",
    "# "
   ]
  },
  {
   "cell_type": "code",
   "execution_count": 5,
   "id": "shared-estimate",
   "metadata": {},
   "outputs": [],
   "source": [
    "# Load parameters\n",
    "md.geometry.bed = param_mat['geometry_bed']\n",
    "md.geometry.surface = param_mat['geometry_surface']\n",
    "md.geometry.base = param_mat['geometry_base']\n",
    "md.mask.ice_levelset = param_mat['mask_ice_levelset']\n",
    "md.mask.groundedice_levelset = param_mat['mask_groundedice_levelset']\n",
    "md.inversion.vx_obs = param_mat['inversion_vx_obs']\n",
    "md.inversion.vy_obs = param_mat['inversion_vy_obs']\n",
    "md.inversion.vel_obs = param_mat['inversion_vel_obs']\n",
    "md.initialization.vx = param_mat['initialization_vx']\n",
    "md.initialization.vy = param_mat['initialization_vy']\n",
    "md.initialization.vz = param_mat['initialization_vz']\n",
    "md.initialization.vel = param_mat['initialization_vel']\n",
    "md.friction.coefficient = param_mat['friction_coefficient']\n",
    "md.materials.rheology_n = param_mat['rheology_n']\n",
    "md.materials.rheology_B = param_mat['rheology_B']\n",
    "md.basalforcings.groundedice_melting_rate = param_mat['basalforcings_groundedice_melting_rate']\n",
    "md.basalforcings.floatingice_melting_rate = param_mat['basalforcings_floatingice_melting_rate']\n",
    "md.smb.mass_balance = param_mat['smb_mass_balance']\n",
    "md.basalforcings.geothermalflux = param_mat['basalforcings_geothermalflux']\n",
    "md.stressbalance.spcvx = param_mat['stressbalance_spcvx']\n",
    "md.stressbalance.spcvy = param_mat['stressbalance_spcvy']\n",
    "md.stressbalance.spcvz = param_mat['stressbalance_spcvz']\n",
    "md.stressbalance.referential = param_mat['stressbalance_referential']\n",
    "md.stressbalance.loadingforce = param_mat['stressbalance_loadingforce']\n",
    "md.masstransport.spcthickness = param_mat['masstransport_spcthickness']\n",
    "\n",
    "# Set bed = base for grounded ice\n",
    "md.geometry.base = md.geometry.bed\n",
    "md.geometry.thickness = md.geometry.surface - md.geometry.base\n",
    "\n",
    "md.friction.q = np.ones(md.mesh.numberofelements)\n",
    "md.friction.p = np.ones(md.mesh.numberofelements)\n",
    "\n",
    "md.flowequation.isSSA = 1\n",
    "md.flowequation.vertex_equation = 2 * np.ones(md.mesh.numberofvertices)\n",
    "md.flowequation.element_equation = 2 * np.ones(md.mesh.numberofelements)\n",
    "md.flowequation.borderSSA = np.ones(md.mesh.numberofvertices)\n",
    "md.flowequation.borderHO = np.ones(md.mesh.numberofvertices)\n",
    "md.flowequation.borderFS = np.ones(md.mesh.numberofvertices)\n",
    "\n",
    "md.mask.ocean_levelset = -md.mask.ice_levelset\n",
    "\n",
    "from generic import generic\n",
    "md.cluster = generic() #telling where to run issm\n",
    "\n",
    "md.miscellaneous.name = 'SAtoES'"
   ]
  },
  {
   "cell_type": "code",
   "execution_count": 6,
   "id": "peripheral-leisure",
   "metadata": {},
   "outputs": [
    {
     "name": "stdout",
     "output_type": "stream",
     "text": [
      "checking model consistency\n",
      "marshalling file SAtoES.bin\n",
      "uploading input file and queueing script\n",
      "launching solution sequence on remote cluster\n",
      "waiting for /efs/issm/issm/trunk-jpl/execution/SAtoES-09-02-2022-19-03-59-1742/SAtoES.lock hold on... (Ctrl+C to exit)\n",
      "loading results from cluster\n",
      "cp /efs/issm/issm/trunk-jpl/execution/SAtoES-09-02-2022-19-03-59-1742/SAtoES.outlog ./\n",
      "cp /efs/issm/issm/trunk-jpl/execution/SAtoES-09-02-2022-19-03-59-1742/SAtoES.errlog ./\n",
      "cp /efs/issm/issm/trunk-jpl/execution/SAtoES-09-02-2022-19-03-59-1742/SAtoES.outbin ./\n",
      "WARNING: SAtoES-09-02-2022-19-03-59-1742.tar.gz does not exist\n"
     ]
    }
   ],
   "source": [
    "import importlib\n",
    "import generic_daskhub\n",
    "importlib.reload(generic_daskhub)\n",
    "from generic_daskhub import generic_daskhub\n",
    "\n",
    "from socket import gethostname\n",
    "md.cluster = generic_daskhub('name', gethostname(), 'np', 2)\n",
    "\n",
    "md.settings.waitonlock = 9999 #np.inf\n",
    "md.cluster.interactive = 0\n",
    "\n",
    "from solve import solve\n",
    "md = solve(md, 'sb')\n"
   ]
  },
  {
   "cell_type": "code",
   "execution_count": 14,
   "id": "special-harmony",
   "metadata": {},
   "outputs": [
    {
     "data": {
      "text/plain": [
       "['',\n",
       " 'Ice Sheet System Model (ISSM) version  4.19',\n",
       " '(website: http://issm.jpl.nasa.gov contact: issm@jpl.nasa.gov)',\n",
       " '',\n",
       " 'call computational core:',\n",
       " '   computing new velocity',\n",
       " 'write lock file:',\n",
       " '',\n",
       " '   FemModel initialization elapsed time:   0.272385',\n",
       " '   Total Core solution elapsed time:       4.01669',\n",
       " '   Linear solver elapsed time:             2.36842 (59%)',\n",
       " '',\n",
       " '   Total elapsed time: 0 hrs 0 min 4 sec']"
      ]
     },
     "execution_count": 14,
     "metadata": {},
     "output_type": "execute_result"
    }
   ],
   "source": [
    "md.results.StressbalanceSolution.outlog"
   ]
  },
  {
   "cell_type": "code",
   "execution_count": 9,
   "id": "mediterranean-brief",
   "metadata": {},
   "outputs": [
    {
     "name": "stdout",
     "output_type": "stream",
     "text": [
      "File inversion allready exist\n"
     ]
    },
    {
     "name": "stdin",
     "output_type": "stream",
     "text": [
      "Give a new name or \"delete\" to replace:  delete\n"
     ]
    },
    {
     "name": "stdout",
     "output_type": "stream",
     "text": [
      "WARNING type \"int16\" is unknown for \"mask.ice_levelset\"\n",
      "WARNING type \"int16\" is unknown for \"mask.ocean_levelset\"\n",
      "WARNING type \"uint8\" is unknown for \"basalforcings.groundedice_melting_rate\"\n",
      "WARNING type \"uint8\" is unknown for \"basalforcings.floatingice_melting_rate\"\n",
      "WARNING type \"uint8\" is unknown for \"materials.rheology_n\"\n",
      "WARNING type \"uint8\" is unknown for \"initialization.vz\"\n",
      "field md.solidearth.external is None\n",
      "WARNING type \"uint8\" is unknown for \"stressbalance.loadingforce\"\n",
      "qmu is skipped until it is more stable\n"
     ]
    }
   ],
   "source": [
    "from export_netCDF import export_netCDF\n",
    "export_netCDF(md, \"inversion\")"
   ]
  },
  {
   "cell_type": "code",
   "execution_count": null,
   "id": "entire-progress",
   "metadata": {},
   "outputs": [],
   "source": []
  }
 ],
 "metadata": {
  "kernelspec": {
   "display_name": "Python 3",
   "language": "python",
   "name": "python3"
  },
  "language_info": {
   "codemirror_mode": {
    "name": "ipython",
    "version": 3
   },
   "file_extension": ".py",
   "mimetype": "text/x-python",
   "name": "python",
   "nbconvert_exporter": "python",
   "pygments_lexer": "ipython3",
   "version": "3.8.8"
  }
 },
 "nbformat": 4,
 "nbformat_minor": 5
}
