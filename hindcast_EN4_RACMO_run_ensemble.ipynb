{
 "cells": [
  {
   "cell_type": "code",
   "execution_count": 3,
   "id": "12720bbd-24bb-4c54-bf12-b125b005a34f",
   "metadata": {
    "tags": []
   },
   "outputs": [],
   "source": [
    "from MatlabFuncs import *\n",
    "from model import *\n",
    "from triangle import *\n",
    "from bamg import bamg\n",
    "from savevars import *\n",
    "import plotdoc\n",
    "from loadmodel import *\n",
    "import os\n",
    "from os.path import exists\n",
    "\n",
    "from export_netCDF import export_netCDF\n",
    "\n",
    "from scipy.io import loadmat\n",
    "from m1qn3inversion import *\n",
    "import numpy as np\n",
    "from ContourToNodes import *\n",
    "from solve import *\n",
    "\n",
    "#import lhsmdu #install in terminal 'pip install lhsmdu'\n",
    "import matplotlib.pyplot as plt\n",
    "import pickle\n",
    "\n",
    "import numpy as np\n",
    "from osgeo import gdal\n",
    "from matplotlib import pyplot as plt\n",
    "\n",
    "from InterpFromGridToMesh import InterpFromGridToMesh\n",
    "from InterpFromMeshToMesh2d import InterpFromMeshToMesh2d\n",
    "\n",
    "import copy\n",
    "import utilities\n",
    "from reinitializelevelset import *"
   ]
  },
  {
   "cell_type": "code",
   "execution_count": null,
   "id": "900b1d69-393b-4256-9007-3a0c02306fde",
   "metadata": {},
   "outputs": [],
   "source": [
    "region = 'SAtoES'\n",
    "start_year  = 1985."
   ]
  },
  {
   "cell_type": "code",
   "execution_count": null,
   "id": "colonial-marble",
   "metadata": {
    "tags": []
   },
   "outputs": [],
   "source": [
    "# Load a separate model to extract the friction coefficient and rheology\n",
    "md_friction = loadmodel(\"./Models/SAtoES_friction_coefficient.nc\")\n",
    "friction_coefficient = md_friction.results.StressbalanceSolution.FrictionCoefficient\n",
    "rheology_B = md_friction.materials.rheology_B\n",
    "md_friction = None\n",
    "\n",
    "# Load the original model\n",
    "md = loadmodel(\"./Models/SAtoES_inversion.nc\")\n",
    "md.friction.coefficient = friction_coefficient\n",
    "md.materials.rheology_B = rheology_B\n",
    "\n",
    "md.levelset.spclevelset = np.nan * np.ones((md.mesh.numberofvertices))\n",
    "pos = md.mesh.vertexonboundary == 1\n",
    "#pos = np.where(md.mesh.vertexonboundary)\n",
    "md.levelset.spclevelset[pos] = md.mask.ice_levelset[pos]\n",
    "md.levelset.migration_max = 1e10\n",
    "plotmodel(md, 'data', md.mask.ice_levelset)"
   ]
  },
  {
   "cell_type": "code",
   "execution_count": null,
   "id": "future-toronto",
   "metadata": {
    "tags": []
   },
   "outputs": [],
   "source": [
    "## Relaxation\n",
    "relaxation_years = 30 #try 5 years if 1 runs quickly\n",
    "\n",
    "# Special post-processing of inverted friction coefficient\n",
    "filename = 'Exp/' + region + '_coeffront_after_inversion.exp'\n",
    "if os.path.isfile(filename):\n",
    "  print('adjusting inverted friction coefficient at the glacier fronts')\n",
    "  pos = find(ContourToNodes(md.mesh.x, md.mesh.y, filename, 1))\n",
    "  md.friction.coefficient[pos] = 10\n",
    "\n",
    "md.initialization.pressure = np.zeros([md.mesh.numberofvertices,1])\n",
    "md.initialization.temperature = 250*np.ones([md.mesh.numberofvertices,1]) #temperature is in kelvin\n",
    "\n",
    "# Set parameters\n",
    "md.inversion.iscontrol=0;\n",
    "md.timestepping.start_time = start_year;\n",
    "md.timestepping.time_step  = .02;\n",
    "md.timestepping.final_time = start_year + relaxation_years;\n",
    "md.settings.output_frequency = (1/md.timestepping.time_step)/5; # 5/yr"
   ]
  },
  {
   "cell_type": "code",
   "execution_count": null,
   "id": "silent-january",
   "metadata": {},
   "outputs": [],
   "source": [
    "# define fjord walls/flush where bed > 0 (code added 8/3/22)\n",
    "n_buffer = 2\n",
    "for i in range(n_buffer):\n",
    "    elements = md.mesh.elements.astype(int)-1\n",
    "    nodes_edge = elements[np.where(np.sum(md.mask.ice_levelset[elements] == -1, axis=1) == 2)[0]]\n",
    "    nodes_edge = np.unique(nodes_edge.ravel())\n",
    "    nodes_bed = np.where(md.geometry.bed > 0)[0]\n",
    "    nodes_edge_bed = np.array(list(set(nodes_edge) & set(nodes_bed)))\n",
    "    plt.plot(md.mesh.x[nodes_edge_bed], md.mesh.y[nodes_edge_bed], 'r.', markersize=10)\n",
    "\n",
    "    md.mask.ice_levelset[nodes_edge_bed] = -1\n",
    "    md.geometry.thickness[nodes_edge_bed] = 10\n",
    "    md.geometry.surface[nodes_edge_bed] = md.geometry.bed[nodes_edge_bed] + md.geometry.thickness[nodes_edge_bed]\n",
    "\n",
    "    md.friction.coefficient[nodes_edge_bed] = 200"
   ]
  },
  {
   "cell_type": "code",
   "execution_count": null,
   "id": "wanted-layer",
   "metadata": {},
   "outputs": [],
   "source": [
    "# defining thermal and sub. discharge at every ISSM mesh node \n",
    "\n",
    "# load raster of basins\n",
    "ds = gdal.Open('./Cheat_matfiles/tidewaterbasins_rignotid.mat_tidewaterbasins.tif', gdal.GA_ReadOnly)\n",
    "rb = ds.GetRasterBand(1)\n",
    "basins_array = rb.ReadAsArray()\n",
    "\n",
    "gt = ds.GetGeoTransform()\n",
    "ulx, xres, xskew, uly, yskew, yres  = gt\n",
    "lrx = ulx + (ds.RasterXSize * xres)\n",
    "lry = uly + (ds.RasterYSize * yres)\n",
    "x = np.arange(ulx, lrx,  xres)\n",
    "y = np.arange(lry, uly, -yres)"
   ]
  },
  {
   "cell_type": "code",
   "execution_count": null,
   "id": "confirmed-group",
   "metadata": {},
   "outputs": [],
   "source": [
    "# interpolate basin to each mesh node \n",
    "px = np.array( ((md.mesh.x - gt[0]) / gt[1]).astype(int) )\n",
    "py = np.array( ((md.mesh.y - gt[3]) / gt[5]).astype(int) )\n",
    "\n",
    "basins_mesh = basins_array[py.astype(int), px.astype(int)]\n",
    "\n",
    "# ISSM wants basins to be numbered from 1 to 4 with the basins that we don't care about numbered 0\n",
    "basins_mesh[basins_mesh==13] = 1\n",
    "basins_mesh[basins_mesh==52] = 2\n",
    "basins_mesh[basins_mesh==53] = 3\n",
    "basins_mesh[basins_mesh==90] = 4\n",
    "basins_mesh[(basins_mesh<1) | (basins_mesh>4)] = 0\n",
    "\n",
    "# find basin id for each element\n",
    "basins_elements = basins_mesh[md.mesh.elements-1]\n",
    "basins_elements = np.max(basins_elements, axis=1)\n",
    "\n",
    "plotmodel(md, 'data', basins_elements)"
   ]
  },
  {
   "cell_type": "code",
   "execution_count": null,
   "id": "arctic-wednesday",
   "metadata": {},
   "outputs": [],
   "source": [
    "# Assigning ocean thermal (EN4) and subglacial discharge (RACMO2.3p2) forcings\n",
    "from scipy_io_utils import *\n",
    "\n",
    "# Load historical forcing data\n",
    "glacier_list = list()\n",
    "m = loadmat('./Cheat_matfiles/glacier0013.mat')\n",
    "glacier0013 = m['glacier0013']\n",
    "m = loadmat('./Cheat_matfiles/glacier0052.mat')\n",
    "glacier0052 = m['glacier0052']\n",
    "m = loadmat('./Cheat_matfiles/glacier0053.mat')\n",
    "glacier0053 = m['glacier0053']\n",
    "m = loadmat('./Cheat_matfiles/glacier0090.mat')\n",
    "glacier0090 = m['glacier0090']\n",
    "\n",
    "# Thermal forcing\n",
    "t = glacier0013['EN4']['t']\n",
    "TF = glacier0013['EN4']['TF']\n",
    "\n",
    "# Discharge\n",
    "t = glacier0013['RACMO']['Q']\n",
    "Q = glacier0013['RACMO']['Q']\n",
    "\n",
    "from frontalforcingsrignot import frontalforcingsrignot\n",
    "md.frontalforcings = frontalforcingsrignot()\n",
    "valid = ~np.isnan(glacier0013['EN4']['TF'])\n",
    "md.frontalforcings.thermalforcing = np.zeros( (md.mesh.numberofvertices+1, len(glacier0013['EN4']['TF'][valid])) )\n",
    "md.frontalforcings.subglacial_discharge = np.zeros( (md.mesh.numberofvertices+1, len(glacier0013['RACMO']['Q'])) )"
   ]
  },
  {
   "cell_type": "code",
   "execution_count": null,
   "id": "streaming-techno",
   "metadata": {},
   "outputs": [],
   "source": [
    "# Assign forcings to correct node \n",
    "\n",
    "# step 1: find which nodes belong to each basin using basin_mesh\n",
    "get_indexes = lambda basins_mesh, xs: [i for (y, i) in zip(xs, range(len(xs))) if basins_mesh == y]\n",
    "glacier13_nodes = get_indexes(1,basins_mesh)\n",
    "glacier52_nodes = get_indexes(2,basins_mesh)\n",
    "glacier53_nodes = get_indexes(3,basins_mesh)\n",
    "glacier90_nodes = get_indexes(4,basins_mesh)\n",
    "\n",
    "# NOTE: Denis combined steps 2 and 3: we select the rows and set to the TF time series\n",
    "# step 2: select() rows from frontalforcings.thermal that correspond to step 1 nodes\n",
    "md.frontalforcings.thermalforcing[glacier13_nodes,:] = glacier0013['EN4']['TF'][valid]\n",
    "md.frontalforcings.thermalforcing[glacier52_nodes,:] = glacier0052['EN4']['TF'][valid]\n",
    "md.frontalforcings.thermalforcing[glacier53_nodes,:] = glacier0053['EN4']['TF'][valid]\n",
    "md.frontalforcings.thermalforcing[glacier90_nodes,:] = glacier0090['EN4']['TF'][valid]\n",
    "\n",
    "# step 2: select() rows from frontalforcings.subglacial_discharge that correspond to step 1 nodes\n",
    "md.frontalforcings.subglacial_discharge[glacier13_nodes,:] = glacier0013['RACMO']['Q'] * 86400\n",
    "md.frontalforcings.subglacial_discharge[glacier52_nodes,:] = glacier0052['RACMO']['Q'] * 86400\n",
    "md.frontalforcings.subglacial_discharge[glacier53_nodes,:] = glacier0053['RACMO']['Q'] * 86400\n",
    "md.frontalforcings.subglacial_discharge[glacier90_nodes,:] = glacier0090['RACMO']['Q'] * 86400\n",
    "\n",
    "# NOTE: And now, set the last row to the time\n",
    "md.frontalforcings.thermalforcing[-1,:] = glacier0013['EN4']['t'][valid]\n",
    "md.frontalforcings.subglacial_discharge[-1,:] = glacier0013['RACMO']['t']\n",
    "\n",
    "# NOTE: All times are the same for the TF time series for each glacier so we just set the times equal to the glacier0013 times\n"
   ]
  },
  {
   "cell_type": "markdown",
   "id": "72195ce2-808b-4d82-b941-9bad720a11ef",
   "metadata": {},
   "source": [
    "## Load the parameters for the ensemble"
   ]
  },
  {
   "cell_type": "code",
   "execution_count": null,
   "id": "e81d0626-b522-4d19-8fa4-414c4bfd7bb1",
   "metadata": {},
   "outputs": [],
   "source": [
    "import pickle\n",
    "with open('ens_dict.pickle', 'rb') as f:\n",
    "    ens_data = pickle.load(f)"
   ]
  },
  {
   "cell_type": "markdown",
   "id": "ae404da5-1d7c-469c-97eb-59968169a043",
   "metadata": {},
   "source": [
    "## Loop through ensemble members and launch ISSM on the cluster"
   ]
  },
  {
   "cell_type": "code",
   "execution_count": null,
   "id": "ordinary-florence",
   "metadata": {
    "tags": []
   },
   "outputs": [],
   "source": [
    "for trial_name, parameters in ens_data.items():\n",
    "    print('Launching ' + trial_name)\n",
    "    \n",
    "    # We set the transient parameters\n",
    "    md.transient.ismovingfront=1\n",
    "    md.transient.isthermal=0\n",
    "    md.transient.isstressbalance=1\n",
    "    md.transient.ismasstransport=1\n",
    "    md.transient.isgroundingline=1\n",
    "    md.groundingline.migration = 'SubelementMigration'\n",
    "\n",
    "    # We set the ocean conditions\n",
    "    md.frontalforcings.basin_id = basins_elements\n",
    "    md.frontalforcings.num_basins = 4\n",
    "\n",
    "    # We set the calving model\n",
    "    from calvingvonmises import calvingvonmises\n",
    "    md.calving = calvingvonmises()\n",
    "\n",
    "    # Set the requested outputs\n",
    "    md.stressbalance.requested_outputs=['default']\n",
    "    md.transient.requested_outputs=['default','IceVolumeAboveFloatation','BasalforcingsGroundediceMeltingRate','CalvingMeltingrate']\n",
    "\n",
    "    # SMCE cluster\n",
    "    from eis_nasa_smce import eis_nasa_smce\n",
    "    md.cluster = eis_nasa_smce()\n",
    "    md.cluster.name = 'pcluster.sealevel.eis.smce.nasa.gov'\n",
    "    md.cluster.partition = 'sealevel-c5n18xl-demand'\n",
    "    md.cluster.login = 'mpascual'\n",
    "    md.cluster.idfile = '~/.ssh/id_rsa'\n",
    "    md.cluster.executionpath = '/efs/mpascual/issm_execution_cluster'\n",
    "    md.cluster.cpuspernode = 14\n",
    "\n",
    "    md.settings.waitonlock = 0\n",
    "\n",
    "    # Go solve\n",
    "    md.miscellaneous.name = region + '_' + trial_name\n",
    "    md.verbose.solution = 1\n",
    "    md = solve(md, 'sb')\n",
    "\n",
    "    # Save this model \n",
    "    export_netCDF(md, '/efs/mpascual/GrIS_Outlet_Glacier_Seasonal_dhdt/Models/' + \\\n",
    "                  region + '_' + '_hindcast_EN4_RACMO_' + trial_name + '_sent2cluster.nc')\n",
    "    \n",
    "    print('')\n",
    "    break"
   ]
  },
  {
   "cell_type": "code",
   "execution_count": null,
   "id": "c8c654e8-70e8-414f-8597-c25b451a285a",
   "metadata": {},
   "outputs": [],
   "source": [
    "md = loadmodel(\"/efs/mpascual/GrIS_Outlet_Glacier_Seasonal_dhdt/Models/SAtoES__hindcast_EN4_RACMO_Trial0_sent2cluster.nc\")\n",
    "md = loadresultsfromcluster(md)\n",
    "#load md cluster results check sb fric coeff field\n",
    "fig = plt.figure(figsize=(15,15))\n",
    "plotmodel(md, 'data', md.results.StressbalanceSolution.Vel[:,0], \\\n",
    "          'mask', md.mask.ice_levelset<0, 'colormap', 'jet', 'caxis', [0,1500])"
   ]
  },
  {
   "cell_type": "markdown",
   "id": "36f8613b-dada-4c1c-b96b-c08b6092359e",
   "metadata": {},
   "source": [
    "***"
   ]
  },
  {
   "cell_type": "markdown",
   "id": "e25d6df5-d435-4dac-8ace-26a5731e337e",
   "metadata": {},
   "source": [
    "## Ensemble for loop"
   ]
  },
  {
   "cell_type": "code",
   "execution_count": null,
   "id": "3e916d36-9481-4405-b7af-14aca6a3dd2d",
   "metadata": {},
   "outputs": [],
   "source": [
    "# Setup\n",
    "cluster_username = 'mpascual'\n"
   ]
  },
  {
   "cell_type": "code",
   "execution_count": 6,
   "id": "wooden-memphis",
   "metadata": {},
   "outputs": [
    {
     "name": "stdout",
     "output_type": "stream",
     "text": [
      "Opening /efs/GrIS_Outlet_Glacier_Seasonal_dhdt/Models/SAtoES_Param.nc for reading \n",
      "group toolkits is empty\n",
      "group results is empty\n",
      "Setting up the inversion\n",
      "converting inversion to m1qn3inversion\n",
      " -> Setting cost function values\n",
      " -> Removing vel==0 obs from inversion\n",
      " -> Setting control parameters\n",
      "\n",
      "Launching Trial0\n",
      "eis_nasa_smce_settings.py not found, using default settings\n",
      "Inversion output already exists: /efs/GrIS_Outlet_Glacier_Seasonal_dhdt/Models/inversion_models/SAtoES__hindcast_EN4_RACMO_inversionTrial0_Inversion.nc\n",
      "Skipping inversion solve!\n",
      "\n",
      "Opening /efs/GrIS_Outlet_Glacier_Seasonal_dhdt/Models/inversion_models/SAtoES__hindcast_EN4_RACMO_inversionTrial0_Inversion.nc for reading \n",
      "eis_nasa_smce_settings.py not found, using default settings\n",
      "empty init\n",
      "eis_nasa_smce_settings.py not found, using default settings\n",
      "checking model consistency\n",
      "marshalling file SAtoES_Trial0_transient.bin\n",
      "uploading input file and queueing script\n",
      "solve.py: launch\n",
      "launching solution sequence on remote cluster\n"
     ]
    },
    {
     "name": "stderr",
     "output_type": "stream",
     "text": [
      "You are accessing a U.S. Government information system, which includes, 1. this computer, 2. this computer network, 3. all computers connected to this network including end user systems, 4. all devices and storage media attached to this network or to any computer on this network and 5.cloud and remote information services. This information system is provided for U.S. Government-authorized use only. You have no reasonable expectation of privacy regarding any communication transmitted through or data stored on this information system. At any time, and for any lawful purpose, the U.S. Government may monitor, intercept, search, and seize any communication or data transiting, stored on, or traveling to or from this information system. You are NOT authorized to process classified information on this information system. Unauthorized or improper use of this system may result in suspension or loss of access privileges, disciplinary action, and civil and/or criminal penalties.\n",
      "\n"
     ]
    },
    {
     "name": "stdout",
     "output_type": "stream",
     "text": [
      "Submitted batch job 55123\n",
      "solve.py: launched!\n",
      "solve.py: waitonlock\n",
      "Model results must be loaded manually with md = loadresultsfromcluster(md).\n",
      "File /efs/GrIS_Outlet_Glacier_Seasonal_dhdt/Models/transient_models/SAtoES__hindcast_EN4_RACMO_transientTrial0_sent2cluster.nc allready exist\n"
     ]
    },
    {
     "name": "stdin",
     "output_type": "stream",
     "text": [
      "Give a new name or \"delete\" to replace:  1\n"
     ]
    },
    {
     "name": "stdout",
     "output_type": "stream",
     "text": [
      "New file name is 1\n",
      "field md.solidearth.external is None\n",
      "WARNING type \"int16\" is unknown for \"frontalforcings.basin_id\"\n",
      "qmu is skipped until it is more stable\n",
      "\n",
      "Launching Trial1\n",
      "eis_nasa_smce_settings.py not found, using default settings\n",
      "Inversion output already exists: /efs/GrIS_Outlet_Glacier_Seasonal_dhdt/Models/inversion_models/SAtoES__hindcast_EN4_RACMO_inversionTrial1_Inversion.nc\n",
      "Skipping inversion solve!\n",
      "\n",
      "Opening /efs/GrIS_Outlet_Glacier_Seasonal_dhdt/Models/inversion_models/SAtoES__hindcast_EN4_RACMO_inversionTrial1_Inversion.nc for reading \n",
      "eis_nasa_smce_settings.py not found, using default settings\n",
      "empty init\n",
      "eis_nasa_smce_settings.py not found, using default settings\n",
      "checking model consistency\n",
      "marshalling file SAtoES_Trial1_transient.bin\n",
      "uploading input file and queueing script\n",
      "solve.py: launch\n",
      "launching solution sequence on remote cluster\n"
     ]
    },
    {
     "name": "stderr",
     "output_type": "stream",
     "text": [
      "You are accessing a U.S. Government information system, which includes, 1. this computer, 2. this computer network, 3. all computers connected to this network including end user systems, 4. all devices and storage media attached to this network or to any computer on this network and 5.cloud and remote information services. This information system is provided for U.S. Government-authorized use only. You have no reasonable expectation of privacy regarding any communication transmitted through or data stored on this information system. At any time, and for any lawful purpose, the U.S. Government may monitor, intercept, search, and seize any communication or data transiting, stored on, or traveling to or from this information system. You are NOT authorized to process classified information on this information system. Unauthorized or improper use of this system may result in suspension or loss of access privileges, disciplinary action, and civil and/or criminal penalties.\n",
      "\n"
     ]
    },
    {
     "name": "stdout",
     "output_type": "stream",
     "text": [
      "Submitted batch job 55124\n",
      "solve.py: launched!\n",
      "solve.py: waitonlock\n",
      "Model results must be loaded manually with md = loadresultsfromcluster(md).\n",
      "File /efs/GrIS_Outlet_Glacier_Seasonal_dhdt/Models/transient_models/SAtoES__hindcast_EN4_RACMO_transientTrial1_sent2cluster.nc allready exist\n"
     ]
    },
    {
     "name": "stdin",
     "output_type": "stream",
     "text": [
      "Give a new name or \"delete\" to replace:  2\n"
     ]
    },
    {
     "name": "stdout",
     "output_type": "stream",
     "text": [
      "New file name is 2\n",
      "field md.solidearth.external is None\n",
      "WARNING type \"int16\" is unknown for \"frontalforcings.basin_id\"\n",
      "qmu is skipped until it is more stable\n",
      "\n",
      "Launching Trial2\n",
      "eis_nasa_smce_settings.py not found, using default settings\n",
      "checking model consistency\n",
      "marshalling file SAtoES_Trial2_inversion.bin\n",
      "uploading input file and queueing script\n",
      "solve.py: launch\n",
      "launching solution sequence on remote cluster\n"
     ]
    },
    {
     "name": "stderr",
     "output_type": "stream",
     "text": [
      "You are accessing a U.S. Government information system, which includes, 1. this computer, 2. this computer network, 3. all computers connected to this network including end user systems, 4. all devices and storage media attached to this network or to any computer on this network and 5.cloud and remote information services. This information system is provided for U.S. Government-authorized use only. You have no reasonable expectation of privacy regarding any communication transmitted through or data stored on this information system. At any time, and for any lawful purpose, the U.S. Government may monitor, intercept, search, and seize any communication or data transiting, stored on, or traveling to or from this information system. You are NOT authorized to process classified information on this information system. Unauthorized or improper use of this system may result in suspension or loss of access privileges, disciplinary action, and civil and/or criminal penalties.\n",
      "\n"
     ]
    },
    {
     "name": "stdout",
     "output_type": "stream",
     "text": [
      "Submitted batch job 55125\n",
      "solve.py: launched!\n",
      "solve.py: waitonlock\n",
      "waiting for /efs/dfelikso/issm_execution_cluster/SAtoES_Trial2_inversion-03-01-2023-19-52-50-2216/SAtoES_Trial2_inversion.lock hold on... (Ctrl+C to exit)\n",
      "starting while loop\n",
      "checking for job completion (time: 3 min 7 sec)       \n",
      "loading results from cluster\n"
     ]
    },
    {
     "name": "stderr",
     "output_type": "stream",
     "text": [
      "You are accessing a U.S. Government information system, which includes, 1. this computer, 2. this computer network, 3. all computers connected to this network including end user systems, 4. all devices and storage media attached to this network or to any computer on this network and 5.cloud and remote information services. This information system is provided for U.S. Government-authorized use only. You have no reasonable expectation of privacy regarding any communication transmitted through or data stored on this information system. At any time, and for any lawful purpose, the U.S. Government may monitor, intercept, search, and seize any communication or data transiting, stored on, or traveling to or from this information system. You are NOT authorized to process classified information on this information system. Unauthorized or improper use of this system may result in suspension or loss of access privileges, disciplinary action, and civil and/or criminal penalties.\n",
      "\n"
     ]
    },
    {
     "name": "stdout",
     "output_type": "stream",
     "text": [
      "field md.solidearth.external is None\n"
     ]
    },
    {
     "name": "stderr",
     "output_type": "stream",
     "text": [
      "/efs/issm-new/python-modules/repos/trunk-jpl-denis/src/m/contrib/defleurian/netCDF/export_netCDF.py:394: RuntimeWarning: invalid value encountered in remainder\n",
      "  IsInt = np.sum(np.mod(var, 1)) == 0 and np.all(abs(var) < 2147483647) and len(var) > 0\n"
     ]
    },
    {
     "name": "stdout",
     "output_type": "stream",
     "text": [
      "WARNING type \"int16\" is unknown for \"frontalforcings.basin_id\"\n",
      "qmu is skipped until it is more stable\n",
      "\n",
      "Opening /efs/GrIS_Outlet_Glacier_Seasonal_dhdt/Models/inversion_models/SAtoES__hindcast_EN4_RACMO_inversionTrial2_Inversion.nc for reading \n",
      "eis_nasa_smce_settings.py not found, using default settings\n",
      "empty init\n",
      "eis_nasa_smce_settings.py not found, using default settings\n",
      "checking model consistency\n",
      "marshalling file SAtoES_Trial2_transient.bin\n",
      "uploading input file and queueing script\n",
      "solve.py: launch\n",
      "launching solution sequence on remote cluster\n"
     ]
    },
    {
     "name": "stderr",
     "output_type": "stream",
     "text": [
      "You are accessing a U.S. Government information system, which includes, 1. this computer, 2. this computer network, 3. all computers connected to this network including end user systems, 4. all devices and storage media attached to this network or to any computer on this network and 5.cloud and remote information services. This information system is provided for U.S. Government-authorized use only. You have no reasonable expectation of privacy regarding any communication transmitted through or data stored on this information system. At any time, and for any lawful purpose, the U.S. Government may monitor, intercept, search, and seize any communication or data transiting, stored on, or traveling to or from this information system. You are NOT authorized to process classified information on this information system. Unauthorized or improper use of this system may result in suspension or loss of access privileges, disciplinary action, and civil and/or criminal penalties.\n",
      "\n"
     ]
    },
    {
     "name": "stdout",
     "output_type": "stream",
     "text": [
      "Submitted batch job 55126\n",
      "solve.py: launched!\n",
      "solve.py: waitonlock\n",
      "Model results must be loaded manually with md = loadresultsfromcluster(md).\n",
      "field md.solidearth.external is None\n",
      "WARNING type \"int16\" is unknown for \"frontalforcings.basin_id\"\n",
      "qmu is skipped until it is more stable\n",
      "\n",
      "Launching Trial3\n",
      "eis_nasa_smce_settings.py not found, using default settings\n",
      "checking model consistency\n",
      "marshalling file SAtoES_Trial3_inversion.bin\n",
      "uploading input file and queueing script\n",
      "solve.py: launch\n",
      "launching solution sequence on remote cluster\n"
     ]
    },
    {
     "name": "stderr",
     "output_type": "stream",
     "text": [
      "You are accessing a U.S. Government information system, which includes, 1. this computer, 2. this computer network, 3. all computers connected to this network including end user systems, 4. all devices and storage media attached to this network or to any computer on this network and 5.cloud and remote information services. This information system is provided for U.S. Government-authorized use only. You have no reasonable expectation of privacy regarding any communication transmitted through or data stored on this information system. At any time, and for any lawful purpose, the U.S. Government may monitor, intercept, search, and seize any communication or data transiting, stored on, or traveling to or from this information system. You are NOT authorized to process classified information on this information system. Unauthorized or improper use of this system may result in suspension or loss of access privileges, disciplinary action, and civil and/or criminal penalties.\n",
      "\n"
     ]
    },
    {
     "name": "stdout",
     "output_type": "stream",
     "text": [
      "Submitted batch job 55127\n",
      "solve.py: launched!\n",
      "solve.py: waitonlock\n",
      "waiting for /efs/dfelikso/issm_execution_cluster/SAtoES_Trial3_inversion-03-01-2023-19-56-45-2216/SAtoES_Trial3_inversion.lock hold on... (Ctrl+C to exit)\n",
      "starting while loop\n",
      "checking for job completion (time: 0 min 5 sec)      "
     ]
    },
    {
     "ename": "KeyboardInterrupt",
     "evalue": "",
     "output_type": "error",
     "traceback": [
      "\u001b[0;31m---------------------------------------------------------------------------\u001b[0m",
      "\u001b[0;31mKeyboardInterrupt\u001b[0m                         Traceback (most recent call last)",
      "Input \u001b[0;32mIn [6]\u001b[0m, in \u001b[0;36m<cell line: 173>\u001b[0;34m()\u001b[0m\n\u001b[1;32m    215\u001b[0m md\u001b[38;5;241m.\u001b[39msettings\u001b[38;5;241m.\u001b[39mwaitonlock \u001b[38;5;241m=\u001b[39m np\u001b[38;5;241m.\u001b[39minf\n\u001b[1;32m    216\u001b[0m md\u001b[38;5;241m.\u001b[39mmiscellaneous\u001b[38;5;241m.\u001b[39mname \u001b[38;5;241m=\u001b[39m region \u001b[38;5;241m+\u001b[39m \u001b[38;5;124m'\u001b[39m\u001b[38;5;124m_\u001b[39m\u001b[38;5;124m'\u001b[39m \u001b[38;5;241m+\u001b[39m trial_name \u001b[38;5;241m+\u001b[39m \u001b[38;5;124m'\u001b[39m\u001b[38;5;124m_inversion\u001b[39m\u001b[38;5;124m'\u001b[39m\n\u001b[0;32m--> 217\u001b[0m md \u001b[38;5;241m=\u001b[39m \u001b[43msolve\u001b[49m\u001b[43m(\u001b[49m\u001b[43mmd\u001b[49m\u001b[43m,\u001b[49m\u001b[43m \u001b[49m\u001b[38;5;124;43m'\u001b[39;49m\u001b[38;5;124;43msb\u001b[39;49m\u001b[38;5;124;43m'\u001b[39;49m\u001b[43m)\u001b[49m\n\u001b[1;32m    219\u001b[0m \u001b[38;5;66;03m# Save this model \u001b[39;00m\n\u001b[1;32m    220\u001b[0m export_netCDF(md, inversion_model_filename)\n",
      "File \u001b[0;32m/efs/issm-new/python-modules/repos/trunk-jpl-denis/src/m/solve/solve.py:164\u001b[0m, in \u001b[0;36msolve\u001b[0;34m(md, solutionstring, *args)\u001b[0m\n\u001b[1;32m    161\u001b[0m \u001b[38;5;28mprint\u001b[39m(\u001b[38;5;124m'\u001b[39m\u001b[38;5;124msolve.py: waitonlock\u001b[39m\u001b[38;5;124m'\u001b[39m)\n\u001b[1;32m    162\u001b[0m \u001b[38;5;28;01mif\u001b[39;00m md\u001b[38;5;241m.\u001b[39msettings\u001b[38;5;241m.\u001b[39mwaitonlock \u001b[38;5;241m>\u001b[39m \u001b[38;5;241m0\u001b[39m:\n\u001b[1;32m    163\u001b[0m     \u001b[38;5;66;03m# Wait for done file\u001b[39;00m\n\u001b[0;32m--> 164\u001b[0m     done \u001b[38;5;241m=\u001b[39m \u001b[43mwaitonlock\u001b[49m\u001b[43m(\u001b[49m\u001b[43mmd\u001b[49m\u001b[43m)\u001b[49m\n\u001b[1;32m    165\u001b[0m     \u001b[38;5;28;01mif\u001b[39;00m md\u001b[38;5;241m.\u001b[39mverbose\u001b[38;5;241m.\u001b[39msolution:\n\u001b[1;32m    166\u001b[0m         \u001b[38;5;28mprint\u001b[39m(\u001b[38;5;124m'\u001b[39m\u001b[38;5;124mloading results from cluster\u001b[39m\u001b[38;5;124m'\u001b[39m)\n",
      "File \u001b[0;32m/efs/issm-new/python-modules/repos/trunk-jpl-denis/src/m/solve/waitonlock.py:78\u001b[0m, in \u001b[0;36mwaitonlock\u001b[0;34m(md)\u001b[0m\n\u001b[1;32m     76\u001b[0m     elapsedtime \u001b[38;5;241m=\u001b[39m etime(time\u001b[38;5;241m.\u001b[39mtime(), starttime) \u001b[38;5;241m/\u001b[39m \u001b[38;5;241m60\u001b[39m\n\u001b[1;32m     77\u001b[0m \u001b[38;5;28;01melse\u001b[39;00m:\n\u001b[0;32m---> 78\u001b[0m     \u001b[43mpause\u001b[49m\u001b[43m(\u001b[49m\u001b[38;5;241;43m5\u001b[39;49m\u001b[43m)\u001b[49m\n\u001b[1;32m     79\u001b[0m     elapsedtime \u001b[38;5;241m=\u001b[39m etime(time\u001b[38;5;241m.\u001b[39mtime(), starttime)\n\u001b[1;32m     80\u001b[0m     sys\u001b[38;5;241m.\u001b[39mstdout\u001b[38;5;241m.\u001b[39mwrite(\u001b[38;5;124m'\u001b[39m\u001b[38;5;130;01m\\r\u001b[39;00m\u001b[38;5;124mchecking for job completion (time: \u001b[39m\u001b[38;5;132;01m{}\u001b[39;00m\u001b[38;5;124m min \u001b[39m\u001b[38;5;132;01m{}\u001b[39;00m\u001b[38;5;124m sec)      \u001b[39m\u001b[38;5;124m'\u001b[39m\u001b[38;5;241m.\u001b[39mformat(floor(elapsedtime \u001b[38;5;241m/\u001b[39m \u001b[38;5;241m60\u001b[39m), floor(rem(elapsedtime, \u001b[38;5;241m60\u001b[39m)))) \u001b[38;5;66;03m# TODO: After Python 2 is deprecated, we can change this call to print([...], end='')\u001b[39;00m\n",
      "File \u001b[0;32m/efs/issm-new/python-modules/repos/trunk-jpl-denis/src/m/miscellaneous/MatlabFuncs.py:261\u001b[0m, in \u001b[0;36mpause\u001b[0;34m(n)\u001b[0m\n\u001b[1;32m    258\u001b[0m \u001b[38;5;28;01mdef\u001b[39;00m \u001b[38;5;21mpause\u001b[39m(n):  \u001b[38;5;66;03m# {{{\u001b[39;00m\n\u001b[1;32m    259\u001b[0m     \u001b[38;5;28;01mimport\u001b[39;00m \u001b[38;5;21;01mtime\u001b[39;00m\n\u001b[0;32m--> 261\u001b[0m     \u001b[43mtime\u001b[49m\u001b[38;5;241;43m.\u001b[39;49m\u001b[43msleep\u001b[49m\u001b[43m(\u001b[49m\u001b[43mn\u001b[49m\u001b[43m)\u001b[49m\n",
      "\u001b[0;31mKeyboardInterrupt\u001b[0m: "
     ]
    }
   ],
   "source": [
    "# Global setup of the base model\n",
    "\n",
    "###################################################\n",
    "## 1) Load the _param model + common parameters  ##\n",
    "###################################################\n",
    "md = loadmodel('/efs/GrIS_Outlet_Glacier_Seasonal_dhdt/Models/SAtoES_Param.nc')\n",
    "\n",
    "#Setup\n",
    "region = 'SAtoES'\n",
    "start_year  = 1985.\n",
    "\n",
    "#############################\n",
    "## input seasonal forcings ##\n",
    "#############################\n",
    "        \n",
    "# defining thermal and sub. discharge at every ISSM mesh node \n",
    "# load raster of basins\n",
    "ds = gdal.Open('./Cheat_matfiles/tidewaterbasins_rignotid.mat_tidewaterbasins.tif', gdal.GA_ReadOnly)\n",
    "rb = ds.GetRasterBand(1)\n",
    "basins_array = rb.ReadAsArray()\n",
    "        \n",
    "gt = ds.GetGeoTransform()\n",
    "ulx, xres, xskew, uly, yskew, yres  = gt\n",
    "lrx = ulx + (ds.RasterXSize * xres)\n",
    "lry = uly + (ds.RasterYSize * yres)\n",
    "x = np.arange(ulx, lrx,  xres)\n",
    "y = np.arange(lry, uly, -yres)\n",
    "        \n",
    "# interpolate basin to each mesh node \n",
    "px = np.array( ((md.mesh.x - gt[0]) / gt[1]).astype(int) )\n",
    "py = np.array( ((md.mesh.y - gt[3]) / gt[5]).astype(int) )\n",
    "basins_mesh = basins_array[py.astype(int), px.astype(int)]\n",
    "        \n",
    "# ISSM wants basins to be numbered from 1 to 4 with the basins that we don't care about numbered 0\n",
    "basins_mesh[basins_mesh==13] = 1\n",
    "basins_mesh[basins_mesh==52] = 2\n",
    "basins_mesh[basins_mesh==53] = 3\n",
    "basins_mesh[basins_mesh==90] = 4\n",
    "basins_mesh[(basins_mesh<1) | (basins_mesh>4)] = 0\n",
    "\n",
    "# find basin id for each element\n",
    "basins_elements = basins_mesh[md.mesh.elements-1]\n",
    "basins_elements = np.max(basins_elements, axis=1)\n",
    "        \n",
    "# Assigning ocean thermal (EN4) and subglacial discharge (RACMO2.3p2) forcings\n",
    "from scipy_io_utils import *\n",
    "\n",
    "# Load historical forcing data\n",
    "glacier_list = list()\n",
    "m = loadmat('./Cheat_matfiles/glacier0013.mat')\n",
    "glacier0013 = m['glacier0013']\n",
    "m = loadmat('./Cheat_matfiles/glacier0052.mat')\n",
    "glacier0052 = m['glacier0052']\n",
    "m = loadmat('./Cheat_matfiles/glacier0053.mat')\n",
    "glacier0053 = m['glacier0053']\n",
    "m = loadmat('./Cheat_matfiles/glacier0090.mat')\n",
    "glacier0090 = m['glacier0090']\n",
    "\n",
    "# Thermal forcing\n",
    "t = glacier0013['EN4']['t']\n",
    "TF = glacier0013['EN4']['TF']\n",
    "\n",
    "# Discharge\n",
    "t = glacier0013['RACMO']['Q']\n",
    "Q = glacier0013['RACMO']['Q']\n",
    "\n",
    "from frontalforcingsrignot import frontalforcingsrignot\n",
    "md.frontalforcings = frontalforcingsrignot()\n",
    "valid = ~np.isnan(glacier0013['EN4']['TF'])\n",
    "md.frontalforcings.thermalforcing = np.zeros( (md.mesh.numberofvertices+1, len(glacier0013['EN4']['TF'][valid])) )\n",
    "md.frontalforcings.subglacial_discharge = np.zeros( (md.mesh.numberofvertices+1, len(glacier0013['RACMO']['Q'])) )\n",
    "        \n",
    "# Assign forcings to correct node \n",
    "# step 1: find which nodes belong to each basin using basin_mesh\n",
    "get_indexes = lambda basins_mesh, xs: [i for (y, i) in zip(xs, range(len(xs))) if basins_mesh == y]\n",
    "glacier13_nodes = get_indexes(1,basins_mesh)\n",
    "glacier52_nodes = get_indexes(2,basins_mesh)\n",
    "glacier53_nodes = get_indexes(3,basins_mesh)\n",
    "glacier90_nodes = get_indexes(4,basins_mesh)\n",
    "\n",
    "# NOTE: Denis combined steps 2 and 3: we select the rows and set to the TF time series\n",
    "# step 2: select() rows from frontalforcings.thermal that correspond to step 1 nodes\n",
    "md.frontalforcings.thermalforcing[glacier13_nodes,:] = glacier0013['EN4']['TF'][valid]\n",
    "md.frontalforcings.thermalforcing[glacier52_nodes,:] = glacier0052['EN4']['TF'][valid]\n",
    "md.frontalforcings.thermalforcing[glacier53_nodes,:] = glacier0053['EN4']['TF'][valid]\n",
    "md.frontalforcings.thermalforcing[glacier90_nodes,:] = glacier0090['EN4']['TF'][valid]\n",
    "\n",
    "# step 2: select() rows from frontalforcings.subglacial_discharge that correspond to step 1 nodes\n",
    "md.frontalforcings.subglacial_discharge[glacier13_nodes,:] = glacier0013['RACMO']['Q'] * 86400\n",
    "md.frontalforcings.subglacial_discharge[glacier52_nodes,:] = glacier0052['RACMO']['Q'] * 86400\n",
    "md.frontalforcings.subglacial_discharge[glacier53_nodes,:] = glacier0053['RACMO']['Q'] * 86400\n",
    "md.frontalforcings.subglacial_discharge[glacier90_nodes,:] = glacier0090['RACMO']['Q'] * 86400\n",
    "\n",
    "# NOTE: And now, set the last row to the time\n",
    "md.frontalforcings.thermalforcing[-1,:] = glacier0013['EN4']['t'][valid]\n",
    "md.frontalforcings.subglacial_discharge[-1,:] = glacier0013['RACMO']['t']\n",
    "    \n",
    "#####################\n",
    "## set Calving law ##\n",
    "#####################\n",
    "from calvingvonmises import calvingvonmises\n",
    "md.calving = calvingvonmises()\n",
    "md.calving.stress_threshold_groundedice = md.calving.stress_threshold_groundedice + (md.calving.stress_threshold_groundedice * 0.5)\n",
    "    \n",
    "###################################\n",
    "## set the transient parameters ##\n",
    "###################################\n",
    "md.transient.ismovingfront=1\n",
    "md.transient.isthermal=0\n",
    "md.transient.issmb = 0\n",
    "md.thermal.isenthalpy = 0\n",
    "md.transient.isstressbalance=1\n",
    "md.transient.ismasstransport=1\n",
    "md.transient.isgroundingline=1\n",
    "md.groundingline.migration = 'SubelementMigration'\n",
    "\n",
    "# We set the ocean conditions\n",
    "md.frontalforcings.basin_id = basins_elements\n",
    "md.frontalforcings.num_basins = 4\n",
    "\n",
    "###################################\n",
    "## set the inversion parameters ##\n",
    "###################################\n",
    "## Inversion\n",
    "print('Setting up the inversion')\n",
    "# Control general\n",
    "md.inversion=m1qn3inversion(md.inversion)\n",
    "md.inversion.iscontrol=1\n",
    "md.verbose.solution = False\n",
    "md.verbose.control = True\n",
    "md.verbose.qmu = False\n",
    "\n",
    "# Cost functions\n",
    "print(' -> Setting cost function values')\n",
    "md.inversion.cost_functions=[101, 103, 501]; #Abs, Log, reg\n",
    "md.inversion.cost_functions_coefficients=np.ones([md.mesh.numberofvertices,len(md.inversion.cost_functions)])\n",
    "md.inversion.cost_functions_coefficients[:,0]=2000\n",
    "md.inversion.cost_functions_coefficients[:,1]=40\n",
    "md.inversion.cost_functions_coefficients[:,2]=1.6e-06\n",
    "\n",
    "# Where vel==0, set coefficients to 0 (i.e., don't try to match this in model)\n",
    "print(' -> Removing vel==0 obs from inversion')\n",
    "pos = md.inversion.vel_obs == 0\n",
    "md.inversion.cost_functions_coefficients[pos,0] = 0\n",
    "md.inversion.cost_functions_coefficients[pos,1] = 0\n",
    "\n",
    "# Controls\n",
    "print(' -> Setting control parameters')\n",
    "md.inversion.control_parameters=['FrictionCoefficient']\n",
    "md.inversion.maxsteps=50\n",
    "md.inversion.maxiter =100\n",
    "md.inversion.min_parameters=0.05*np.ones(md.mesh.numberofvertices)\n",
    "md.inversion.max_parameters=200*np.ones(md.mesh.numberofvertices)\n",
    "md.inversion.control_scaling_factors=1\n",
    "\n",
    "# Additional parameters\n",
    "md.stressbalance.restol=0.01\n",
    "md.stressbalance.reltol=0.1\n",
    "md.stressbalance.abstol=np.nan\n",
    "#md.stressbalance.requested_outputs={'default','DeviatoricStressxx','DeviatoricStressyy','DeviatoricStressxy'}\n",
    "\n",
    "md.friction.coupling = 2\n",
    "\n",
    "print('')\n",
    "\n",
    "###################################\n",
    "## 2) for loop for each ensemble ##\n",
    "###################################\n",
    "import pickle\n",
    "with open('ens_dict.pickle', 'rb') as f:\n",
    "    ens_data = pickle.load(f)\n",
    "    \n",
    "for trial_name, parameters in ens_data.items():\n",
    "    print('Launching ' + trial_name)\n",
    "    \n",
    "    ####################################################\n",
    "    ## set friction coefficient and rheology with LHS ##\n",
    "    ####################################################\n",
    "    #set sliding law \n",
    "    md.friction.p = 1 * np.ones([md.mesh.numberofelements]) #needs to be array from mesh elements\n",
    "    \n",
    "    #set ice rheology\n",
    "    from cuffey import cuffey \n",
    "    #Vary Celsius range with LHS\n",
    "    temperature = -10 + (-10*0.5) #(-15 = cold, -1 = warm)\n",
    "    # convert celsius to kelvin\n",
    "    temperature = temperature + 273.15 \n",
    "    #Calculate rigidity\n",
    "    rigidity = cuffey(temperature)\n",
    "    #Set rigidity calculation to rheology\n",
    "    md.materials.rheology_B = rigidity\n",
    "    \n",
    "    ####################\n",
    "    ## run inversion ##\n",
    "    ####################\n",
    "    # SMCE pCluster\n",
    "    from eis_nasa_smce import eis_nasa_smce\n",
    "    md.cluster = eis_nasa_smce()\n",
    "    md.cluster.name = 'pcluster.sealevel.eis.smce.nasa.gov'\n",
    "    md.cluster.partition = 'sealevel-c5n18xl-demand'\n",
    "    md.cluster.login = cluster_username\n",
    "    md.cluster.idfile = '~/.ssh/id_rsa'\n",
    "    md.cluster.executionpath = '/efs/' + cluster_username + '/issm_execution_cluster'\n",
    "    md.cluster.numnodes = 1\n",
    "    md.cluster.cpuspernode = 36\n",
    "    \n",
    "    # set if statement for checking inversion files already run\n",
    "    inversion_model_filename = '/efs/GrIS_Outlet_Glacier_Seasonal_dhdt/Models/inversion_models/' + \\\n",
    "                  region + '_' + '_hindcast_EN4_RACMO_inversion' + trial_name + '_Inversion.nc'\n",
    "    \n",
    "    if os.path.exists(inversion_model_filename):\n",
    "        print('Inversion output already exists: ' + inversion_model_filename)\n",
    "        print('Skipping inversion solve!')\n",
    "    else:\n",
    "        md.inversion.iscontrol = 1 \n",
    "        md.settings.waitonlock = np.inf\n",
    "        md.miscellaneous.name = region + '_' + trial_name + '_inversion'\n",
    "        md = solve(md, 'sb')\n",
    "\n",
    "        # Save this model \n",
    "        export_netCDF(md, inversion_model_filename)\n",
    "    \n",
    "    print('')\n",
    "    \n",
    "    # Load the inversion model\n",
    "    md = loadmodel(inversion_model_filename)\n",
    "    ###############################################\n",
    "    ## extract friction coefficient ##\n",
    "    ###############################################\n",
    "    md.friction.coefficient = md.results.StressbalanceSolution.FrictionCoefficient\n",
    "\n",
    "    #################################################\n",
    "    ## Interpolate the 1985 DEM surface elevations ##\n",
    "    #################################################\n",
    "    z_1985dem = utilities.interp1985DEM(md.mesh.x, md.mesh.y)\n",
    "    # Select the points that will be used to create the linear relationship between the two surfaces\n",
    "    pos = (~np.isnan(z_1985dem - md.geometry.surface)) & (z_1985dem > 700) & (z_1985dem < 1000)\n",
    "    # Find the linear relationship\n",
    "    p = np.polyfit(md.geometry.surface[pos], z_1985dem[pos], 1)\n",
    "    z_polyval = np.polyval(p, md.geometry.surface[pos])\n",
    "    residuals = z_1985dem[pos] - z_polyval\n",
    "    # Shift the surface\n",
    "    surf_shifted = utilities.surface_shift(md, md.geometry.surface, z_1985dem)\n",
    "    md.geometry.surface = surf_shifted\n",
    "    \n",
    "    # Find the points where bed < 0 and the new surface > 42 m\n",
    "    ice_levelset_original = copy.deepcopy(md.mask.ice_levelset)\n",
    "    pos = (md.geometry.bed < 0) & (md.geometry.surface > 42) & (md.mask.ice_levelset > 0) & (md.mesh.vertexonboundary == 0)\n",
    "\n",
    "    # Fill in these points with ice\n",
    "    md.mask.ice_levelset[pos] = -1\n",
    "    md.mask.ice_levelset = reinitializelevelset(md, md.mask.ice_levelset)\n",
    "\n",
    "    md.mask.ice_levelset = md.mask.ice_levelset[:,0]\n",
    "    \n",
    "    # Extrapolate friction coefficient\n",
    "    from scipy.interpolate import griddata\n",
    "    valid = (ice_levelset_original < 0) & (md.geometry.surface < 300)\n",
    "    extrap = (md.geometry.bed < 0) & (md.geometry.surface > 42) & (ice_levelset_original > 0) & (md.mesh.vertexonboundary == 0)\n",
    "    friction_coefficient_extrap = griddata((md.mesh.x[valid], md.mesh.y[valid]), \\\n",
    "                                            md.friction.coefficient[valid], \\\n",
    "                                           (md.mesh.x[extrap], md.mesh.y[extrap]), \\\n",
    "                                            method='nearest')\n",
    "    md.friction.coefficient[extrap] = friction_coefficient_extrap\n",
    "\n",
    "    \n",
    "    \n",
    "    \n",
    "    md.levelset.spclevelset = np.nan * np.ones((md.mesh.numberofvertices))\n",
    "    pos = md.mesh.vertexonboundary == 1\n",
    "    #md.levelset.spclevelset[pos] = md.mask.ice_levelset[pos]\n",
    "    md.levelset.migration_max = 1e10\n",
    "    \n",
    "    # define fjord walls/flush where bed > 0 (code added 8/3/22)\n",
    "    #n_buffer = 2\n",
    "    #for i in range(n_buffer):\n",
    "     #   elements = md.mesh.elements.astype(int)-1\n",
    "      #  nodes_edge = elements[np.where(np.sum(md.mask.ice_levelset[elements] == -1, axis=1) == 2)[0]]\n",
    "       # nodes_edge = np.unique(nodes_edge.ravel())\n",
    "        #nodes_bed = np.where(md.geometry.bed > 0)[0]\n",
    "        #nodes_edge_bed = np.array(list(set(nodes_edge) & set(nodes_bed)))\n",
    "        #plt.plot(md.mesh.x[nodes_edge_bed], md.mesh.y[nodes_edge_bed], 'r.', markersize=10)\n",
    "\n",
    "    #md.mask.ice_levelset[nodes_edge_bed] = -1\n",
    "    #md.geometry.thickness[nodes_edge_bed] = 10\n",
    "    #md.geometry.surface[nodes_edge_bed] = md.geometry.bed[nodes_edge_bed] + md.geometry.thickness[nodes_edge_bed]\n",
    "    \n",
    "    #md.friction.coefficient[nodes_edge_bed] = 200\n",
    "\n",
    "    # Set bed = base for grounded ice\n",
    "    #md.geometry.base = md.geometry.bed\n",
    "    #md.geometry.thickness = md.geometry.surface - md.geometry.base\n",
    "    \n",
    "    pos = (md.mask.ice_levelset < 0) & (md.mask.ocean_levelset > 0)\n",
    "    md.geometry.base[pos] = md.geometry.bed[pos]\n",
    "    md.geometry.surface = md.geometry.base + md.geometry.thickness\n",
    "    \n",
    "    ####################\n",
    "    ## set transient ##\n",
    "    ####################\n",
    "    transient_years = 30 #try 5 years if 1 runs quickly\n",
    "       \n",
    "    # Set parameters\n",
    "    md.inversion.iscontrol=0;\n",
    "    md.timestepping.start_time = start_year;\n",
    "    md.timestepping.time_step  = .02;\n",
    "    md.timestepping.final_time = start_year + transient_years;\n",
    "    md.settings.output_frequency = (1/md.timestepping.time_step)/5; # 5/yr\n",
    "     \n",
    "    ###################################\n",
    "    ## set the transient parameters ##\n",
    "    ###################################\n",
    "    md.transient.ismovingfront=1\n",
    "    md.transient.isthermal=0\n",
    "    md.transient.issmb = 0\n",
    "    md.thermal.isenthalpy = 0\n",
    "    md.transient.isstressbalance=1\n",
    "    md.transient.ismasstransport=1\n",
    "    md.transient.isgroundingline=1\n",
    "    md.groundingline.migration = 'SubelementMigration'\n",
    "    \n",
    "    # We set the ocean conditions\n",
    "    md.frontalforcings.basin_id = basins_elements\n",
    "    md.frontalforcings.num_basins = 4\n",
    "    \n",
    "    # SMCE pCluster\n",
    "    from eis_nasa_smce import eis_nasa_smce\n",
    "    md.cluster = eis_nasa_smce()\n",
    "    md.cluster.name = 'pcluster.sealevel.eis.smce.nasa.gov'\n",
    "    md.cluster.partition = 'sealevel-c5n18xl-demand'\n",
    "    md.cluster.login = cluster_username\n",
    "    md.cluster.idfile = '~/.ssh/id_rsa'\n",
    "    md.cluster.executionpath = '/efs/' + cluster_username + '/issm_execution_cluster'\n",
    "    md.cluster.numnodes = 1\n",
    "    md.cluster.cpuspernode = 36\n",
    "    \n",
    "    md.settings.waitonlock = 0\n",
    "    \n",
    "    # Go solve\n",
    "    md.miscellaneous.name = region + '_' + trial_name + '_transient'\n",
    "    md.verbose.solution = 1\n",
    "    md = solve(md, 'tr')\n",
    "\n",
    "    # Save this model \n",
    "    export_netCDF(md, '/efs/GrIS_Outlet_Glacier_Seasonal_dhdt/Models/transient_models/' + \\\n",
    "                  region + '_' + '_hindcast_EN4_RACMO_transient' + trial_name + '_sent2cluster.nc')\n",
    "    \n",
    "    print('')\n",
    "        "
   ]
  },
  {
   "cell_type": "code",
   "execution_count": 14,
   "id": "7c07ea57-eb8a-4d00-b62c-818fde3703dd",
   "metadata": {},
   "outputs": [
    {
     "data": {
      "image/png": "[encoded data removed]",
      "text/plain": [
       "<Figure size 432x288 with 2 Axes>"
      ]
     },
     "metadata": {},
     "output_type": "display_data"
    }
   ],
   "source": [
    "plotmodel(md, 'data', md.results.StressbalanceSolution.FrictionCoefficient)"
   ]
  },
  {
   "cell_type": "code",
   "execution_count": 3,
   "id": "70d4e3fd-4f11-4ee9-8537-ad428b4c6253",
   "metadata": {},
   "outputs": [
    {
     "name": "stdout",
     "output_type": "stream",
     "text": [
      "Opening /efs/GrIS_Outlet_Glacier_Seasonal_dhdt/Models/inversion_models/SAtoES__hindcast_EN4_RACMO_inversionTrial0_Inversion.nc for reading \n",
      "You need eis_nasa_smce_settings.py to proceed, check presence and sys.path\n",
      "eis_nasa_smce_settings.py not found, using default settings\n",
      "empty init\n"
     ]
    }
   ],
   "source": [
    "md = loadmodel('/efs/GrIS_Outlet_Glacier_Seasonal_dhdt/Models/inversion_models/SAtoES__hindcast_EN4_RACMO_inversionTrial0_Inversion.nc')"
   ]
  },
  {
   "cell_type": "code",
   "execution_count": 8,
   "id": "f9164924-368c-492c-ae35-e92dfe02ddda",
   "metadata": {},
   "outputs": [],
   "source": [
    "pos = (md.mask.ice_levelset < 0) & (md.mask.ocean_levelset > 0)\n",
    "np.max(md.geometry.base[pos] - md.geometry.bed[pos])\n",
    "\n",
    "md.geometry.base[pos] = md.geometry.bed[pos]\n",
    "md.geometry.surface = md.geometry.base + md.geometry.thickness"
   ]
  },
  {
   "cell_type": "code",
   "execution_count": 9,
   "id": "c45ab9f9-a4ff-43b6-9121-6e0b4b427972",
   "metadata": {},
   "outputs": [
    {
     "data": {
      "text/plain": [
       "0.40926282746565334"
      ]
     },
     "execution_count": 9,
     "metadata": {},
     "output_type": "execute_result"
    }
   ],
   "source": [
    "np.min(md.geometry.thickness)"
   ]
  },
  {
   "cell_type": "code",
   "execution_count": 12,
   "id": "34b0f1e4-b988-49bf-86bd-4025aa0432b2",
   "metadata": {},
   "outputs": [
    {
     "data": {
      "text/plain": [
       "(12112,)"
      ]
     },
     "execution_count": 12,
     "metadata": {},
     "output_type": "execute_result"
    }
   ],
   "source": [
    "md.geometry.bed.shape"
   ]
  },
  {
   "cell_type": "code",
   "execution_count": 13,
   "id": "4d0187eb-7a30-437e-b08f-9271b0651b2d",
   "metadata": {},
   "outputs": [
    {
     "data": {
      "text/plain": [
       "(12112, 12112)"
      ]
     },
     "execution_count": 13,
     "metadata": {},
     "output_type": "execute_result"
    }
   ],
   "source": [
    "pos.shape"
   ]
  },
  {
   "cell_type": "code",
   "execution_count": 17,
   "id": "41cf0b12-86b0-432e-baa6-6b8688460086",
   "metadata": {},
   "outputs": [
    {
     "data": {
      "text/plain": [
       "(12112,)"
      ]
     },
     "execution_count": 17,
     "metadata": {},
     "output_type": "execute_result"
    }
   ],
   "source": [
    "md.mask.ocean_levelset.shape"
   ]
  },
  {
   "cell_type": "code",
   "execution_count": 9,
   "id": "0e8e1802-471d-4486-aca2-efee7eb5f464",
   "metadata": {},
   "outputs": [
    {
     "name": "stdout",
     "output_type": "stream",
     "text": [
      "Opening /efs/GrIS_Outlet_Glacier_Seasonal_dhdt/Models/transient_models/SAtoES__hindcast_EN4_RACMO_transientTrial0_sent2cluster.nc for reading \n",
      "eis_nasa_smce_settings.py not found, using default settings\n",
      "empty init\n"
     ]
    }
   ],
   "source": [
    "md = loadmodel('/efs/GrIS_Outlet_Glacier_Seasonal_dhdt/Models/transient_models/SAtoES__hindcast_EN4_RACMO_transientTrial0_sent2cluster.nc')"
   ]
  },
  {
   "cell_type": "code",
   "execution_count": 10,
   "id": "78a98ce7-e9d9-4f89-b358-d113e76a2891",
   "metadata": {},
   "outputs": [
    {
     "data": {
      "text/plain": [
       "    StressbalanceSolution: [1x1 struct]"
      ]
     },
     "execution_count": 10,
     "metadata": {},
     "output_type": "execute_result"
    }
   ],
   "source": [
    "md.results"
   ]
  },
  {
   "cell_type": "code",
   "execution_count": 6,
   "id": "56cc56fc-3545-4759-a7b9-0863eb6f6c72",
   "metadata": {},
   "outputs": [
    {
     "ename": "AttributeError",
     "evalue": "'results' object has no attribute 'TransientSolution'",
     "output_type": "error",
     "traceback": [
      "\u001b[0;31m---------------------------------------------------------------------------\u001b[0m",
      "\u001b[0;31mAttributeError\u001b[0m                            Traceback (most recent call last)",
      "Input \u001b[0;32mIn [6]\u001b[0m, in \u001b[0;36m<cell line: 2>\u001b[0;34m()\u001b[0m\n\u001b[1;32m      1\u001b[0m \u001b[38;5;66;03m# Changes in ice velocity\u001b[39;00m\n\u001b[0;32m----> 2\u001b[0m ice_vel_change \u001b[38;5;241m=\u001b[39m \u001b[43mmd\u001b[49m\u001b[38;5;241;43m.\u001b[39;49m\u001b[43mresults\u001b[49m\u001b[38;5;241;43m.\u001b[39;49m\u001b[43mTransientSolution\u001b[49m[\u001b[38;5;241m5\u001b[39m]\u001b[38;5;241m.\u001b[39mVel \u001b[38;5;241m-\u001b[39m md\u001b[38;5;241m.\u001b[39mresults\u001b[38;5;241m.\u001b[39mTransientSolution[\u001b[38;5;241m0\u001b[39m]\u001b[38;5;241m.\u001b[39mVel\n\u001b[1;32m      3\u001b[0m plotmodel(md, \u001b[38;5;124m'\u001b[39m\u001b[38;5;124mdata\u001b[39m\u001b[38;5;124m'\u001b[39m, ice_vel_change, \u001b[38;5;124m'\u001b[39m\u001b[38;5;124mmask#all\u001b[39m\u001b[38;5;124m'\u001b[39m, md\u001b[38;5;241m.\u001b[39mmask\u001b[38;5;241m.\u001b[39mice_levelset\u001b[38;5;241m<\u001b[39m\u001b[38;5;241m=\u001b[39m\u001b[38;5;241m0\u001b[39m)\n",
      "\u001b[0;31mAttributeError\u001b[0m: 'results' object has no attribute 'TransientSolution'"
     ]
    }
   ],
   "source": [
    "# Changes in ice velocity\n",
    "ice_vel_change = md.results.TransientSolution[5].Vel - md.results.TransientSolution[0].Vel\n",
    "plotmodel(md, 'data', ice_vel_change, 'mask#all', md.mask.ice_levelset<=0)"
   ]
  },
  {
   "cell_type": "code",
   "execution_count": null,
   "id": "689cdf91-50e6-4cc4-9400-18c8898666c2",
   "metadata": {},
   "outputs": [],
   "source": []
  }
 ],
 "metadata": {
  "kernelspec": {
   "display_name": "Python 3 (ipykernel)",
   "language": "python",
   "name": "python3"
  },
  "language_info": {
   "codemirror_mode": {
    "name": "ipython",
    "version": 3
   },
   "file_extension": ".py",
   "mimetype": "text/x-python",
   "name": "python",
   "nbconvert_exporter": "python",
   "pygments_lexer": "ipython3",
   "version": "3.9.13"
  }
 },
 "nbformat": 4,
 "nbformat_minor": 5
}
