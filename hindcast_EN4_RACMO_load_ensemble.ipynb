{
 "cells": [
  {
   "cell_type": "code",
   "execution_count": 2,
   "id": "accompanied-following",
   "metadata": {
    "tags": []
   },
   "outputs": [],
   "source": [
    "from MatlabFuncs import *\n",
    "from model import *\n",
    "from triangle import *\n",
    "from bamg import bamg\n",
    "from savevars import *\n",
    "import plotdoc\n",
    "from loadmodel import *\n",
    "import os\n",
    "from os.path import exists\n",
    "\n",
    "from export_netCDF import export_netCDF\n",
    "\n",
    "from scipy.io import loadmat\n",
    "from m1qn3inversion import *\n",
    "import numpy as np\n",
    "from ContourToNodes import *\n",
    "from solve import *\n",
    "\n",
    "#import lhsmdu #install in terminal 'pip install lhsmdu'\n",
    "import matplotlib.pyplot as plt\n",
    "import pickle\n",
    "\n",
    "import numpy as np\n",
    "from osgeo import gdal\n",
    "from matplotlib import pyplot as plt\n",
    "\n",
    "from InterpFromGridToMesh import InterpFromGridToMesh\n",
    "from InterpFromMeshToMesh2d import InterpFromMeshToMesh2d"
   ]
  },
  {
   "cell_type": "code",
   "execution_count": 3,
   "id": "900b1d69-393b-4256-9007-3a0c02306fde",
   "metadata": {},
   "outputs": [],
   "source": [
    "region = 'SAtoES'\n",
    "start_year  = 1985."
   ]
  },
  {
   "cell_type": "code",
   "execution_count": 4,
   "id": "e81d0626-b522-4d19-8fa4-414c4bfd7bb1",
   "metadata": {},
   "outputs": [],
   "source": [
    "import pickle\n",
    "with open('ens_dict.pickle', 'rb') as f:\n",
    "    ens_data = pickle.load(f)"
   ]
  },
  {
   "cell_type": "code",
   "execution_count": 5,
   "id": "6f50a9f1-26f0-4358-9c7e-8402d58a0920",
   "metadata": {},
   "outputs": [
    {
     "name": "stdout",
     "output_type": "stream",
     "text": [
      "Loading Trial0\n",
      "Opening /efs/dfelikso/GrIS_Outlet_Glacier_Seasonal_dhdt/Models/SAtoES__hindcast_EN4_RACMO_Trial0_sent2cluster.nc for reading \n",
      "You need eis_nasa_smce_settings.py to proceed, check presence and sys.path\n",
      "eis_nasa_smce_settings.py not found, using default settings\n",
      "empty init\n"
     ]
    },
    {
     "name": "stderr",
     "output_type": "stream",
     "text": [
      "You are accessing a U.S. Government information system, which includes, 1. this computer, 2. this computer network, 3. all computers connected to this network including end user systems, 4. all devices and storage media attached to this network or to any computer on this network and 5.cloud and remote information services. This information system is provided for U.S. Government-authorized use only. You have no reasonable expectation of privacy regarding any communication transmitted through or data stored on this information system. At any time, and for any lawful purpose, the U.S. Government may monitor, intercept, search, and seize any communication or data transiting, stored on, or traveling to or from this information system. You are NOT authorized to process classified information on this information system. Unauthorized or improper use of this system may result in suspension or loss of access privileges, disciplinary action, and civil and/or criminal penalties.\n",
      "\n"
     ]
    },
    {
     "name": "stdout",
     "output_type": "stream",
     "text": [
      "WARNING: SAtoES_Trial0-11-10-2022-01-55-58-1717.tar.gz does not exist\n",
      "File /efs/dfelikso/GrIS_Outlet_Glacier_Seasonal_dhdt/Models/SAtoES__hindcast_EN4_RACMO_Trial0.nc allready exist\n"
     ]
    },
    {
     "name": "stdin",
     "output_type": "stream",
     "text": [
      "Give a new name or \"delete\" to replace:  delete\n"
     ]
    },
    {
     "name": "stdout",
     "output_type": "stream",
     "text": [
      "field md.solidearth.external is None\n",
      "qmu is skipped until it is more stable\n",
      "TransientSolution\n",
      "\n",
      "Loading Trial1\n",
      "Opening /efs/dfelikso/GrIS_Outlet_Glacier_Seasonal_dhdt/Models/SAtoES__hindcast_EN4_RACMO_Trial1_sent2cluster.nc for reading \n",
      "eis_nasa_smce_settings.py not found, using default settings\n",
      "empty init\n"
     ]
    },
    {
     "name": "stderr",
     "output_type": "stream",
     "text": [
      "You are accessing a U.S. Government information system, which includes, 1. this computer, 2. this computer network, 3. all computers connected to this network including end user systems, 4. all devices and storage media attached to this network or to any computer on this network and 5.cloud and remote information services. This information system is provided for U.S. Government-authorized use only. You have no reasonable expectation of privacy regarding any communication transmitted through or data stored on this information system. At any time, and for any lawful purpose, the U.S. Government may monitor, intercept, search, and seize any communication or data transiting, stored on, or traveling to or from this information system. You are NOT authorized to process classified information on this information system. Unauthorized or improper use of this system may result in suspension or loss of access privileges, disciplinary action, and civil and/or criminal penalties.\n",
      "\n"
     ]
    },
    {
     "name": "stdout",
     "output_type": "stream",
     "text": [
      "WARNING: SAtoES_Trial1-11-10-2022-01-56-13-1717.tar.gz does not exist\n",
      "File /efs/dfelikso/GrIS_Outlet_Glacier_Seasonal_dhdt/Models/SAtoES__hindcast_EN4_RACMO_Trial1.nc allready exist\n"
     ]
    },
    {
     "name": "stdin",
     "output_type": "stream",
     "text": [
      "Give a new name or \"delete\" to replace:  delete\n"
     ]
    },
    {
     "name": "stdout",
     "output_type": "stream",
     "text": [
      "field md.solidearth.external is None\n",
      "qmu is skipped until it is more stable\n",
      "TransientSolution\n",
      "\n",
      "Model not found for Trial2\n",
      "\n",
      "Model not found for Trial3\n",
      "\n",
      "Model not found for Trial4\n",
      "\n",
      "Model not found for Trial5\n",
      "\n",
      "Model not found for Trial6\n",
      "\n",
      "Model not found for Trial7\n",
      "\n",
      "Model not found for Trial8\n",
      "\n",
      "Model not found for Trial9\n",
      "\n"
     ]
    }
   ],
   "source": [
    "for trial_name, parameters in ens_data.items():\n",
    "    filename = '/efs/dfelikso/GrIS_Outlet_Glacier_Seasonal_dhdt/Models/' + \\\n",
    "                   region + '_' + '_hindcast_EN4_RACMO_' + trial_name + '_sent2cluster.nc'\n",
    "    \n",
    "    if os.path.isfile(filename):\n",
    "        print('Loading ' + trial_name)\n",
    "\n",
    "        # Load from cluster\n",
    "        md = loadmodel(filename)\n",
    "        md = loadresultsfromcluster(md)\n",
    "\n",
    "        # Save results\n",
    "        export_netCDF(md, filename.replace('_sent2cluster',''))\n",
    "\n",
    "    else:\n",
    "        print('Model not found for ' + trial_name)\n",
    "        \n",
    "    print('')\n",
    "    "
   ]
  },
  {
   "cell_type": "code",
   "execution_count": null,
   "id": "wooden-memphis",
   "metadata": {},
   "outputs": [],
   "source": []
  }
 ],
 "metadata": {
  "kernelspec": {
   "display_name": "Python 3 (ipykernel)",
   "language": "python",
   "name": "python3"
  },
  "language_info": {
   "codemirror_mode": {
    "name": "ipython",
    "version": 3
   },
   "file_extension": ".py",
   "mimetype": "text/x-python",
   "name": "python",
   "nbconvert_exporter": "python",
   "pygments_lexer": "ipython3",
   "version": "3.9.13"
  }
 },
 "nbformat": 4,
 "nbformat_minor": 5
}
