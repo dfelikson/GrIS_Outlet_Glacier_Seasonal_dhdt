{
 "cells": [
  {
   "cell_type": "code",
   "execution_count": 15,
   "id": "aging-barrier",
   "metadata": {},
   "outputs": [],
   "source": [
    "#+++++++++++++++++++++++++++++++++++++++++++++++++++++++++++++++++++++++\n",
    "# Script to set ensemsble dictionary with Latin Hypercube Sampling\n",
    "# Mikayla Pascual 07/22/22\n",
    "#+++++++++++++++++++++++++++++++++++++++++++++++++++++++++++++++++++++++\n",
    "\n",
    "#import \n",
    "from MatlabFuncs import *\n",
    "from model import *\n",
    "from loadmodel import *\n",
    "from os.path import exists\n",
    "import lhsmdu\n",
    "import numpy as np\n",
    "import pickle"
   ]
  },
  {
   "cell_type": "code",
   "execution_count": 11,
   "id": "fantastic-specific",
   "metadata": {},
   "outputs": [],
   "source": [
    "# gather parameters we want to vary\n",
    "md = model()\n",
    "### frontal forcings ###\n",
    "from frontalforcingsrignot import frontalforcingsrignot\n",
    "md.frontalforcings = frontalforcingsrignot()\n",
    "md.frontalforcings.subglacial_discharge = 2.6 * np.ones(md.mesh.numberofvertices)\n",
    "md.frontalforcings.thermalforcing = 15.7 * np.ones(md.mesh.numberofvertices)\n",
    "\n",
    "### calving forcings ###\n",
    "# We set the calving model (no moving front ... spclevelset is actually ignored)\n",
    "from calvingvonmises import calvingvonmises\n",
    "md.calving = calvingvonmises()\n",
    "md.calving.stress_threshold_groundedice = md.calving.stress_threshold_groundedice * 0.5"
   ]
  },
  {
   "cell_type": "code",
   "execution_count": 12,
   "id": "subtle-innocent",
   "metadata": {},
   "outputs": [],
   "source": [
    "# Set Latin Hypercube sampling parameters\n",
    "k = lhsmdu.sample(3, 10) # Latin Hypercube Sampling with multi-dimensional uniformity, \n",
    "                        # 3 variables with 10 samples each\n",
    "k = np.array(k)\n",
    "# collect -20% to 20% range\n",
    "k = k * 0.4 - 0.2\n",
    "\n",
    "# change initial model parameters to proportional LHS output\n",
    "sd_after = 2.6 * k[0]\n",
    "tf_after = 15.7 * k[1]\n",
    "calve_after = md.calving.stress_threshold_groundedice + md.calving.stress_threshold_groundedice*k[2]"
   ]
  },
  {
   "cell_type": "code",
   "execution_count": 13,
   "id": "armed-information",
   "metadata": {},
   "outputs": [
    {
     "data": {
      "text/plain": [
       "{'Trial0': {'sd_after': 0.3456626405860415,\n",
       "  'tf_after': 1.5904661636423953,\n",
       "  'calve_after': 415204.55719779374},\n",
       " 'Trial1': {'sd_after': 0.46024538961610745,\n",
       "  'tf_after': -3.107454818875516,\n",
       "  'calve_after': 431912.7748121569},\n",
       " 'Trial2': {'sd_after': -0.05120852061681667,\n",
       "  'tf_after': 2.095387486705782,\n",
       "  'calve_after': 529431.5237710031},\n",
       " 'Trial3': {'sd_after': 0.1292106121711683,\n",
       "  'tf_after': -1.1715875828823243,\n",
       "  'calve_after': 588236.8182829454},\n",
       " 'Trial4': {'sd_after': -0.4040569702271229,\n",
       "  'tf_after': 2.5517994814568987,\n",
       "  'calve_after': 506977.3653308599},\n",
       " 'Trial5': {'sd_after': -0.24849551558607022,\n",
       "  'tf_after': -1.2623049740591141,\n",
       "  'calve_after': 458590.5828849565},\n",
       " 'Trial6': {'sd_after': 0.23801757753698652,\n",
       "  'tf_after': 0.8304382146441261,\n",
       "  'calve_after': 576612.3881557547},\n",
       " 'Trial7': {'sd_after': -0.1475512249720483,\n",
       "  'tf_after': -0.11939884800328923,\n",
       "  'calve_after': 499300.53821333026},\n",
       " 'Trial8': {'sd_after': -0.503946277611483,\n",
       "  'tf_after': 0.15991433119164364,\n",
       "  'calve_after': 542485.9444697109},\n",
       " 'Trial9': {'sd_after': 0.05003857059290104,\n",
       "  'tf_after': -2.0840162904433726,\n",
       "  'calve_after': 474617.34950407286}}"
      ]
     },
     "execution_count": 13,
     "metadata": {},
     "output_type": "execute_result"
    }
   ],
   "source": [
    "# Create 10 ensembles with parameters from [0], [1], [2], ..., [9]\n",
    "lhs_params_for_ens = {\n",
    "    'sd_after' : sd_after,\n",
    "    'tf_after' : tf_after,\n",
    "    'calve_after' : calve_after\n",
    "} \n",
    "lhs_params_for_ens\n",
    "\n",
    "# ens needs to match LHS sample number\n",
    "ens = list(range(0, 10))\n",
    "\n",
    "ens_dict = {}\n",
    "for i in range(len(ens)):\n",
    "    trial_name = 'Trial' + str(i)\n",
    "    res = dict()\n",
    "    for sub in lhs_params_for_ens:\n",
    "        res[sub] = lhs_params_for_ens[sub][i]\n",
    "    ens_dict[trial_name] = res\n",
    "ens_dict"
   ]
  },
  {
   "cell_type": "code",
   "execution_count": 16,
   "id": "bizarre-permit",
   "metadata": {},
   "outputs": [],
   "source": [
    "# save output\n",
    "with open('ens_dict.pickle', 'wb') as f:\n",
    "    # Pickle the 'data' dictionary \n",
    "    pickle.dump(ens_dict, f)"
   ]
  },
  {
   "cell_type": "code",
   "execution_count": null,
   "id": "excited-jones",
   "metadata": {},
   "outputs": [],
   "source": []
  }
 ],
 "metadata": {
  "kernelspec": {
   "display_name": "Python [conda env:lhs]",
   "language": "python",
   "name": "conda-env-lhs-py"
  },
  "language_info": {
   "codemirror_mode": {
    "name": "ipython",
    "version": 3
   },
   "file_extension": ".py",
   "mimetype": "text/x-python",
   "name": "python",
   "nbconvert_exporter": "python",
   "pygments_lexer": "ipython3",
   "version": "3.8.8"
  }
 },
 "nbformat": 4,
 "nbformat_minor": 5
}
