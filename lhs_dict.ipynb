{
 "cells": [
  {
   "cell_type": "code",
   "execution_count": 1,
   "id": "traditional-carnival",
   "metadata": {},
   "outputs": [],
   "source": [
    "#+++++++++++++++++++++++++++++++++++++++++++++++++++++++++++++++++++++++\n",
    "# Script to set ensemsble dictionary with Latin Hypercube Sampling\n",
    "# Mikayla Pascual 07/22/22\n",
    "#+++++++++++++++++++++++++++++++++++++++++++++++++++++++++++++++++++++++\n",
    "\n",
    "#import \n",
    "from MatlabFuncs import *\n",
    "from model import *\n",
    "from loadmodel import *\n",
    "from os.path import exists\n",
    "import lhsmdu\n",
    "import numpy as np\n",
    "import pickle"
   ]
  },
  {
   "cell_type": "code",
   "execution_count": 2,
   "id": "detected-while",
   "metadata": {},
   "outputs": [],
   "source": [
    "### frontal forcings ###\n",
    "#from frontalforcingsrignot import frontalforcingsrignot\n",
    "#md.frontalforcings = frontalforcingsrignot()\n",
    "#md.frontalforcings.subglacial_discharge = 2.6 * np.ones(md.mesh.numberofvertices)\n",
    "#md.frontalforcings.thermalforcing = 15.7 * np.ones(md.mesh.numberofvertices)"
   ]
  },
  {
   "cell_type": "code",
   "execution_count": 14,
   "id": "instrumental-franklin",
   "metadata": {},
   "outputs": [
    {
     "data": {
      "text/plain": [
       "   basal forcings parameters:\n",
       "         groundedice_melting_...: N/A             -- basal melting rate (positive if melting) [m/yr]\n",
       "         floatingice_melting_...: N/A             -- basal melting rate (positive if melting) [m/yr]\n",
       "         geothermalflux         : N/A             -- geothermal heat flux [W/m^2]"
      ]
     },
     "execution_count": 14,
     "metadata": {},
     "output_type": "execute_result"
    }
   ],
   "source": [
    "### basal sliding ###\n",
    "md.basalforcings"
   ]
  },
  {
   "cell_type": "code",
   "execution_count": 11,
   "id": "egyptian-booth",
   "metadata": {},
   "outputs": [
    {
     "data": {
      "text/plain": [
       "   Materials:\n",
       "         rho_ice                : 917.0           -- ice density [kg/m^3]\n",
       "         rho_water              : 1023.0          -- water density [kg/m^3]\n",
       "         rho_freshwater         : 1000.0          -- fresh water density [kg/m^3]\n",
       "         mu_water               : 0.001787        -- water viscosity [Ns/m^2]\n",
       "         heatcapacity           : 2093.0          -- heat capacity [J/kg/K]\n",
       "         thermalconductivity    : 2.4             -- ice thermal conductivity [W/m/K]\n",
       "         temperateiceconducti...: 0.24            -- temperate ice thermal conductivity [W/m/K]\n",
       "         effectiveconductivit...: 1               -- computation of effectiveconductivity: (0) arithmetic mean, (1) harmonic mean, (2) geometric mean (default)\n",
       "         meltingpoint           : 273.15          -- melting point of ice at 1atm in K\n",
       "         latentheat             : 334000.0        -- latent heat of fusion [J/m^3]\n",
       "         beta                   : 9.8e-08         -- rate of change of melting point with pressure [K/Pa]\n",
       "         mixed_layer_capacity   : 3974.0          -- mixed layer capacity [W/kg/K]\n",
       "         thermal_exchange_vel...: 0.0001          -- thermal exchange velocity [m/s]\n",
       "         rheology_B             : 210000000.0     -- flow law parameter [Pa s^(1/n)]\n",
       "         rheology_n             : 3               -- Glen's flow law exponent\n",
       "         rheology_law           : 'Paterson'      -- law for the temperature dependance of the rheology: 'None', 'BuddJacka', 'Cuffey', 'CuffeyTemperate', 'Paterson', 'Arrhenius', 'LliboutryDuval', 'NyeCO2', or 'NyeH2O'\n",
       "         earth_density          : 5512            -- Mantle density [kg/m^-3]"
      ]
     },
     "execution_count": 11,
     "metadata": {},
     "output_type": "execute_result"
    }
   ],
   "source": [
    "### ice temperature ###\n",
    "md.materials.rheology_B"
   ]
  },
  {
   "cell_type": "code",
   "execution_count": 2,
   "id": "elect-astrology",
   "metadata": {},
   "outputs": [],
   "source": [
    "### calving forcings ###\n",
    "# We set the calving model (no moving front ... spclevelset is actually ignored)\n",
    "from calvingvonmises import calvingvonmises\n",
    "md.calving = calvingvonmises()\n",
    "md.calving.stress_threshold_groundedice = md.calving.stress_threshold_groundedice * 0.5"
   ]
  },
  {
   "cell_type": "code",
   "execution_count": 21,
   "id": "olympic-novelty",
   "metadata": {},
   "outputs": [
    {
     "data": {
      "text/plain": [
       "array([[-0.06440273, -0.42421539,  0.20143935,  0.01160726,  0.30460026,\n",
       "        -0.19592712,  0.48554606,  0.17036579, -0.35258262, -0.29021658],\n",
       "       [ 0.04916159, -0.15265282,  0.11732019, -0.25661484, -0.06014953,\n",
       "         0.36158501,  0.46350937,  0.2045304 , -0.46253874, -0.33741401],\n",
       "       [-0.44968637,  0.48564898,  0.16586936,  0.01629344,  0.30705687,\n",
       "        -0.33575807, -0.29734887,  0.25857756, -0.10597698, -0.04245258]])"
      ]
     },
     "execution_count": 21,
     "metadata": {},
     "output_type": "execute_result"
    }
   ],
   "source": [
    "# Set Latin Hypercube sampling parameters\n",
    "k = lhsmdu.sample(3, 10) # Latin Hypercube Sampling with multi-dimensional uniformity, \n",
    "                        # 3 variables with 10 samples each\n",
    "k = np.array(k)\n",
    "# collect -50% to 50% range\n",
    "#k = (k * 0.7) - 0.2\n",
    "k = k - 0.5\n",
    "k"
   ]
  },
  {
   "cell_type": "code",
   "execution_count": 26,
   "id": "peripheral-exhibit",
   "metadata": {},
   "outputs": [
    {
     "data": {
      "image/png": "[encoded data removed]",
      "text/plain": [
       "<Figure size 432x288 with 1 Axes>"
      ]
     },
     "metadata": {
      "needs_background": "light"
     },
     "output_type": "display_data"
    }
   ],
   "source": [
    "import matplotlib.pyplot as plt\n",
    "\n",
    "fig = plt.figure()\n",
    "ax = fig.gca()\n",
    "ax.set_xticks(np.arange(-0.5,0.5,0.1))\n",
    "ax.set_yticks(np.arange(-0.5,0.5,0.1))\n",
    "plt.scatter(k[0], k[1], color=\"g\", label=\"LHS-MDU\")\n",
    "plt.show()"
   ]
  },
  {
   "cell_type": "code",
   "execution_count": 12,
   "id": "preceding-seminar",
   "metadata": {},
   "outputs": [],
   "source": [
    "# change initial model parameters to proportional LHS output\n",
    "sd_after = 2.6 * k[0]\n",
    "tf_after = 15.7 * k[1]\n",
    "calve_after = md.calving.stress_threshold_groundedice + md.calving.stress_threshold_groundedice*k[2]"
   ]
  },
  {
   "cell_type": "code",
   "execution_count": 27,
   "id": "focal-guatemala",
   "metadata": {},
   "outputs": [
    {
     "data": {
      "text/plain": [
       "{'Trial0': {'basal_after': -0.0644027321348738,\n",
       "  'ice_temp_after': 0.0491615875116832,\n",
       "  'calve_after': -0.44968637414199125},\n",
       " 'Trial1': {'basal_after': -0.4242153889535631,\n",
       "  'ice_temp_after': -0.15265282292194343,\n",
       "  'calve_after': 0.4856489841188323},\n",
       " 'Trial2': {'basal_after': 0.20143934886297554,\n",
       "  'ice_temp_after': 0.11732018699100144,\n",
       "  'calve_after': 0.1658693631618945},\n",
       " 'Trial3': {'basal_after': 0.011607264050691679,\n",
       "  'ice_temp_after': -0.2566148350762027,\n",
       "  'calve_after': 0.016293442708142925},\n",
       " 'Trial4': {'basal_after': 0.30460026420217534,\n",
       "  'ice_temp_after': -0.06014952656026262,\n",
       "  'calve_after': 0.30705687474004306},\n",
       " 'Trial5': {'basal_after': -0.195927119768103,\n",
       "  'ice_temp_after': 0.3615850098052217,\n",
       "  'calve_after': -0.3357580721793684},\n",
       " 'Trial6': {'basal_after': 0.48554605840110077,\n",
       "  'ice_temp_after': 0.46350936508676444,\n",
       "  'calve_after': -0.2973488689458378},\n",
       " 'Trial7': {'basal_after': 0.17036578593800233,\n",
       "  'ice_temp_after': 0.20453040097720443,\n",
       "  'calve_after': 0.2585775581273463},\n",
       " 'Trial8': {'basal_after': -0.3525826170912675,\n",
       "  'ice_temp_after': -0.4625387385373529,\n",
       "  'calve_after': -0.10597697585750426},\n",
       " 'Trial9': {'basal_after': -0.29021658393489985,\n",
       "  'ice_temp_after': -0.3374140084285764,\n",
       "  'calve_after': -0.042452582212412104}}"
      ]
     },
     "execution_count": 27,
     "metadata": {},
     "output_type": "execute_result"
    }
   ],
   "source": [
    "# Create 10 ensembles with parameters from [0], [1], [2], ..., [9]\n",
    "lhs_params_for_ens = {\n",
    "    'basal_after' : k[0],\n",
    "    'ice_temp_after' : k[1],\n",
    "    'calve_after' : k[2]\n",
    "} \n",
    "lhs_params_for_ens\n",
    "\n",
    "# ens needs to match LHS sample number\n",
    "ens = list(range(0, 10))\n",
    "\n",
    "ens_dict = {}\n",
    "for i in range(len(ens)):\n",
    "    trial_name = 'Trial' + str(i)\n",
    "    res = dict()\n",
    "    for sub in lhs_params_for_ens:\n",
    "        res[sub] = lhs_params_for_ens[sub][i]\n",
    "    ens_dict[trial_name] = res\n",
    "ens_dict"
   ]
  },
  {
   "cell_type": "code",
   "execution_count": 28,
   "id": "aging-archives",
   "metadata": {},
   "outputs": [],
   "source": [
    "# save output\n",
    "with open('ens_dict.pickle', 'wb') as f:\n",
    "    # Pickle the 'data' dictionary \n",
    "    pickle.dump(ens_dict, f)"
   ]
  },
  {
   "cell_type": "code",
   "execution_count": null,
   "id": "controlling-hungary",
   "metadata": {},
   "outputs": [],
   "source": []
  }
 ],
 "metadata": {
  "kernelspec": {
   "display_name": "Python 3",
   "language": "python",
   "name": "python3"
  },
  "language_info": {
   "codemirror_mode": {
    "name": "ipython",
    "version": 3
   },
   "file_extension": ".py",
   "mimetype": "text/x-python",
   "name": "python",
   "nbconvert_exporter": "python",
   "pygments_lexer": "ipython3",
   "version": "3.8.8"
  }
 },
 "nbformat": 4,
 "nbformat_minor": 5
}
