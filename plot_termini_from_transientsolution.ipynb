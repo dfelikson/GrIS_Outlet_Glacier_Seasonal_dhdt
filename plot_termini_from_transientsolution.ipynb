{
 "cells": [
  {
   "cell_type": "code",
   "execution_count": 31,
   "id": "75d85dd2-a82d-4633-80d5-666aa9b36c5e",
   "metadata": {},
   "outputs": [],
   "source": [
    "from MatlabFuncs import *\n",
    "from model import *\n",
    "from triangle import *\n",
    "from bamg import bamg\n",
    "from savevars import *\n",
    "import plotdoc\n",
    "from loadmodel import *\n",
    "from os.path import exists\n",
    "\n",
    "from scipy.io import loadmat\n",
    "from m1qn3inversion import *\n",
    "import numpy as np\n",
    "from ContourToNodes import *\n",
    "from solve import *\n",
    "\n",
    "#import lhsmdu #install in terminal 'pip install lhsmdu'\n",
    "import matplotlib.pyplot as plt\n",
    "import pickle\n",
    "\n",
    "import numpy as np\n",
    "from osgeo import gdal\n",
    "\n",
    "import matplotlib.colors as colors\n",
    "import matplotlib.cm as cmx\n",
    "from matplotlib import pyplot as plt\n",
    "\n",
    "from InterpFromGridToMesh import InterpFromGridToMesh\n",
    "from InterpFromMeshToMesh2d import InterpFromMeshToMesh2d\n",
    "\n",
    "plt.rcParams['axes.facecolor'] = 'white'\n"
   ]
  },
  {
   "cell_type": "code",
   "execution_count": 2,
   "id": "f1b587ff-e832-417c-bd03-b14a77d77ac0",
   "metadata": {},
   "outputs": [
    {
     "name": "stdout",
     "output_type": "stream",
     "text": [
      "Opening /efs/dfelikso/GrIS_Outlet_Glacier_Seasonal_dhdt/Models/SAtoES_hindcast_EN4_RACMO_seasonal_half_calve.nc for reading \n",
      "empty init\n"
     ]
    }
   ],
   "source": [
    "md = loadmodel('/efs/dfelikso/GrIS_Outlet_Glacier_Seasonal_dhdt/Models/SAtoES_hindcast_EN4_RACMO_seasonal_half_calve.nc')"
   ]
  },
  {
   "cell_type": "code",
   "execution_count": null,
   "id": "57f6cb23-af78-47f4-aa41-f4b93461b37c",
   "metadata": {},
   "outputs": [],
   "source": [
    "cmap = cmx.get_cmap('Spectral')\n",
    "\n",
    "fig = plt.figure(figsize=(20,20))\n",
    "fig.patch.set_facecolor('white')\n",
    "plotmodel(md, 'data', 'mesh')\n",
    "\n",
    "# NOTE: The code below plots every 10-th terminus position from md.results.TransientSolution.MaskIceLevelset for speed. This can be changed to every one but will run slightly slower.\n",
    "n = len(md.results.TransientSolution)\n",
    "for i in range(0,n,10):\n",
    "    c = cmap(i/n)\n",
    "    plt.tricontour(md.mesh.x, md.mesh.y, md.results.TransientSolution[i].MaskIceLevelset, 0, linewidths=2, colors=c)\n",
    "\n",
    "norm = colors.Normalize(vmin=1985,vmax=2015)\n",
    "sm = cmx.ScalarMappable(cmap=cmap, norm=norm)\n",
    "sm.set_array([])\n",
    "plt.colorbar(sm, ticks=np.linspace(1985,2015,11), \n",
    "             boundaries=np.arange(1985,2015,.1),\n",
    "             shrink=0.65, orientation='horizontal')\n"
   ]
  },
  {
   "cell_type": "code",
   "execution_count": null,
   "id": "a0d0332e-47ed-4fbc-8dbb-26caa89cf7f2",
   "metadata": {},
   "outputs": [],
   "source": []
  }
 ],
 "metadata": {
  "kernelspec": {
   "display_name": "Python 3 (ipykernel)",
   "language": "python",
   "name": "python3"
  },
  "language_info": {
   "codemirror_mode": {
    "name": "ipython",
    "version": 3
   },
   "file_extension": ".py",
   "mimetype": "text/x-python",
   "name": "python",
   "nbconvert_exporter": "python",
   "pygments_lexer": "ipython3",
   "version": "3.9.13"
  }
 },
 "nbformat": 4,
 "nbformat_minor": 5
}
