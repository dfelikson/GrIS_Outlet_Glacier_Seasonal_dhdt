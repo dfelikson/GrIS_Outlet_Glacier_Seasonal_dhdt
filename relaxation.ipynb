{
 "cells": [
  {
   "cell_type": "code",
   "execution_count": 3,
   "id": "electronic-annex",
   "metadata": {},
   "outputs": [
    {
     "name": "stdout",
     "output_type": "stream",
     "text": [
      "could not import shapefile, PyShp has not been installed, no shapefile reading capabilities enabled\n"
     ]
    }
   ],
   "source": [
    "#+++++++++++++++++++++++++++++++++++++++++++++++++++++++++++++++++++++++\n",
    "# Script to run and export ISSM relaxation\n",
    "# Mikayla Pascual 07/13/22\n",
    "#+++++++++++++++++++++++++++++++++++++++++++++++++++++++++++++++++++++++\n",
    "\n",
    "#import \n",
    "from MatlabFuncs import *\n",
    "from model import *\n",
    "from triangle import *\n",
    "from bamg import bamg\n",
    "from savevars import *\n",
    "import plotdoc\n",
    "from loadmodel import *\n",
    "from os.path import exists\n",
    "\n",
    "from scipy.io import loadmat\n",
    "from m1qn3inversion import *\n",
    "import numpy as np\n",
    "from ContourToNodes import *\n",
    "from solve import *\n",
    "\n",
    "import lhsmdu #install in terminal 'pip install lhsmdu'\n",
    "import matplotlib.pyplot as plt\n",
    "import numpy as np\n",
    "import pickle\n",
    "\n"
   ]
  },
  {
   "cell_type": "code",
   "execution_count": 4,
   "id": "personalized-subscription",
   "metadata": {},
   "outputs": [],
   "source": [
    "# Load some mat files to use later\n",
    "vel_mat = loadmat('Cheat_matfiles/vel.mat')\n",
    "hmaxVertices_mat = loadmat('Cheat_matfiles/hmaxVertices.mat')\n",
    "param_mat = loadmat('Cheat_matfiles/param.mat')\n",
    "\n",
    "velx = vel_mat['velx']\n",
    "vely = vel_mat['vely']\n",
    "vel = vel_mat['vel']\n",
    "\n",
    "hmaxVertices = hmaxVertices_mat['hmaxVertices']\n"
   ]
  },
  {
   "cell_type": "code",
   "execution_count": 5,
   "id": "joined-worker",
   "metadata": {},
   "outputs": [],
   "source": [
    "# Setup\n",
    "region = 'SAtoES';\n",
    "start_year = 1985;\n",
    "\n",
    "# Mesh sizing\n",
    "triangleresolution = 1000;\n",
    "hmin = 300;\n",
    "hmax = 10000;\n",
    "\n",
    "# Mesh\n",
    "md = model()\n",
    "md = triangle(md,'./Exp/' +region+ '.exp',triangleresolution) # set up mesh\n",
    "\n",
    "md = bamg(md,'hmin',hmin,'hmax',hmax,'field',vel,'err',2,'hmaxVertices',hmaxVertices);\n",
    "\n",
    "#savevars('./Models/' +region+ '_mesh', 'md', md)\n",
    "\n",
    "# "
   ]
  },
  {
   "cell_type": "code",
   "execution_count": 6,
   "id": "sustained-conflict",
   "metadata": {},
   "outputs": [],
   "source": [
    "# Load parameters\n",
    "md.geometry.bed = param_mat['geometry_bed']\n",
    "md.geometry.surface = param_mat['geometry_surface']\n",
    "md.geometry.base = param_mat['geometry_base']\n",
    "md.mask.ice_levelset = param_mat['mask_ice_levelset']\n",
    "md.mask.groundedice_levelset = param_mat['mask_groundedice_levelset']\n",
    "md.inversion.vx_obs = param_mat['inversion_vx_obs']\n",
    "md.inversion.vy_obs = param_mat['inversion_vy_obs']\n",
    "md.inversion.vel_obs = param_mat['inversion_vel_obs']\n",
    "md.initialization.vx = param_mat['initialization_vx']\n",
    "md.initialization.vy = param_mat['initialization_vy']\n",
    "md.initialization.vz = param_mat['initialization_vz']\n",
    "md.initialization.vel = param_mat['initialization_vel']\n",
    "md.friction.coefficient = param_mat['friction_coefficient']\n",
    "md.materials.rheology_n = param_mat['rheology_n']\n",
    "md.materials.rheology_B = param_mat['rheology_B']\n",
    "md.basalforcings.groundedice_melting_rate = param_mat['basalforcings_groundedice_melting_rate']\n",
    "md.basalforcings.floatingice_melting_rate = param_mat['basalforcings_floatingice_melting_rate']\n",
    "md.smb.mass_balance = param_mat['smb_mass_balance']\n",
    "md.basalforcings.geothermalflux = param_mat['basalforcings_geothermalflux']\n",
    "md.stressbalance.spcvx = param_mat['stressbalance_spcvx']\n",
    "md.stressbalance.spcvy = param_mat['stressbalance_spcvy']\n",
    "md.stressbalance.spcvz = param_mat['stressbalance_spcvz']\n",
    "md.stressbalance.referential = param_mat['stressbalance_referential']\n",
    "md.stressbalance.loadingforce = param_mat['stressbalance_loadingforce']\n",
    "md.masstransport.spcthickness = param_mat['masstransport_spcthickness']\n",
    "\n",
    "# Set bed = base for grounded ice\n",
    "md.geometry.base = md.geometry.bed\n",
    "md.geometry.thickness = md.geometry.surface - md.geometry.base\n",
    "\n",
    "md.friction.q = np.ones(md.mesh.numberofelements)\n",
    "md.friction.p = np.ones(md.mesh.numberofelements)\n",
    "\n",
    "md.flowequation.isSSA = 1\n",
    "md.flowequation.vertex_equation = 2 * np.ones(md.mesh.numberofvertices)\n",
    "md.flowequation.element_equation = 2 * np.ones(md.mesh.numberofelements)\n",
    "md.flowequation.borderSSA = np.ones(md.mesh.numberofvertices)\n",
    "md.flowequation.borderHO = np.ones(md.mesh.numberofvertices)\n",
    "md.flowequation.borderFS = np.ones(md.mesh.numberofvertices)\n",
    "\n",
    "md.mask.ocean_levelset = -md.mask.ice_levelset\n",
    "\n",
    "from generic import generic\n",
    "md.cluster = generic() #telling where to run issm\n",
    "\n",
    "md.miscellaneous.name = 'SAtoES'"
   ]
  },
  {
   "cell_type": "code",
   "execution_count": 7,
   "id": "working-chicago",
   "metadata": {},
   "outputs": [
    {
     "name": "stdout",
     "output_type": "stream",
     "text": [
      "Opening inversion for reading \n",
      "solidearthsettings.solidearthsettings\n",
      "lovenumbers.lovenumbers\n",
      "rotational.rotational\n",
      "results.solutionstep\n",
      "empty init\n"
     ]
    }
   ],
   "source": [
    "md = loadmodel(\"inversion\")"
   ]
  },
  {
   "cell_type": "code",
   "execution_count": 15,
   "id": "defined-haiti",
   "metadata": {},
   "outputs": [
    {
     "ename": "TypeError",
     "evalue": "object of type 'float' has no len()",
     "output_type": "error",
     "traceback": [
      "\u001b[0;31m---------------------------------------------------------------------------\u001b[0m",
      "\u001b[0;31mTypeError\u001b[0m                                 Traceback (most recent call last)",
      "Input \u001b[0;32mIn [15]\u001b[0m, in \u001b[0;36m<cell line: 1>\u001b[0;34m()\u001b[0m\n\u001b[0;32m----> 1\u001b[0m \u001b[43mplotmodel\u001b[49m\u001b[43m(\u001b[49m\u001b[43mmd\u001b[49m\u001b[43m,\u001b[49m\u001b[43m \u001b[49m\u001b[38;5;124;43m'\u001b[39;49m\u001b[38;5;124;43mdata\u001b[39;49m\u001b[38;5;124;43m'\u001b[39;49m\u001b[43m,\u001b[49m\u001b[43m \u001b[49m\u001b[43mmd\u001b[49m\u001b[38;5;241;43m.\u001b[39;49m\u001b[43mmask\u001b[49m\u001b[38;5;241;43m.\u001b[39;49m\u001b[43mice_levelset\u001b[49m\u001b[43m)\u001b[49m\n",
      "File \u001b[0;32m/efs/issm/issm/trunk-jpl-denis/src/m/plot/plotmodel.py:143\u001b[0m, in \u001b[0;36mplotmodel\u001b[0;34m(md, *args)\u001b[0m\n\u001b[1;32m    141\u001b[0m \u001b[38;5;28;01mfor\u001b[39;00m i, ax \u001b[38;5;129;01min\u001b[39;00m \u001b[38;5;28menumerate\u001b[39m(axgrid\u001b[38;5;241m.\u001b[39maxes_all):\n\u001b[1;32m    142\u001b[0m     \u001b[38;5;28;01mtry\u001b[39;00m:\n\u001b[0;32m--> 143\u001b[0m         \u001b[43mplot_manager\u001b[49m\u001b[43m(\u001b[49m\u001b[43moptions\u001b[49m\u001b[38;5;241;43m.\u001b[39;49m\u001b[43mlist\u001b[49m\u001b[43m[\u001b[49m\u001b[43mi\u001b[49m\u001b[43m]\u001b[49m\u001b[38;5;241;43m.\u001b[39;49m\u001b[43mgetfieldvalue\u001b[49m\u001b[43m(\u001b[49m\u001b[38;5;124;43m'\u001b[39;49m\u001b[38;5;124;43mmodel\u001b[39;49m\u001b[38;5;124;43m'\u001b[39;49m\u001b[43m,\u001b[49m\u001b[43m \u001b[49m\u001b[43mmd\u001b[49m\u001b[43m)\u001b[49m\u001b[43m,\u001b[49m\u001b[43m \u001b[49m\u001b[43moptions\u001b[49m\u001b[38;5;241;43m.\u001b[39;49m\u001b[43mlist\u001b[49m\u001b[43m[\u001b[49m\u001b[43mi\u001b[49m\u001b[43m]\u001b[49m\u001b[43m,\u001b[49m\u001b[43m \u001b[49m\u001b[43mfig\u001b[49m\u001b[43m,\u001b[49m\u001b[43m \u001b[49m\u001b[43maxgrid\u001b[49m\u001b[43m,\u001b[49m\u001b[43m \u001b[49m\u001b[43mi\u001b[49m\u001b[43m)\u001b[49m\n\u001b[1;32m    144\u001b[0m     \u001b[38;5;28;01mexcept\u001b[39;00m \u001b[38;5;167;01mKeyError\u001b[39;00m:\n\u001b[1;32m    145\u001b[0m         \u001b[38;5;28mprint\u001b[39m(\u001b[38;5;124m\"\u001b[39m\u001b[38;5;124mToo many axes present, we delete the overflow\u001b[39m\u001b[38;5;124m\"\u001b[39m)\n",
      "File \u001b[0;32m/efs/issm/issm/trunk-jpl-denis/src/m/plot/plot_manager.py:93\u001b[0m, in \u001b[0;36mplot_manager\u001b[0;34m(md, options, fig, axgrid, gridindex)\u001b[0m\n\u001b[1;32m     83\u001b[0m \u001b[38;5;66;03m# }}}\u001b[39;00m\n\u001b[1;32m     84\u001b[0m \u001b[38;5;66;03m# {{{ Gridded plot TODO\u001b[39;00m\n\u001b[1;32m     85\u001b[0m \u001b[38;5;66;03m# }}}\u001b[39;00m\n\u001b[0;32m   (...)\u001b[0m\n\u001b[1;32m     90\u001b[0m \n\u001b[1;32m     91\u001b[0m \u001b[38;5;66;03m#process data and model\u001b[39;00m\n\u001b[1;32m     92\u001b[0m x, y, z, elements, is2d, isplanet \u001b[38;5;241m=\u001b[39m processmesh(md, data, options)\n\u001b[0;32m---> 93\u001b[0m data2, datatype \u001b[38;5;241m=\u001b[39m \u001b[43mprocessdata\u001b[49m\u001b[43m(\u001b[49m\u001b[43mmd\u001b[49m\u001b[43m,\u001b[49m\u001b[43m \u001b[49m\u001b[43mdata\u001b[49m\u001b[43m,\u001b[49m\u001b[43m \u001b[49m\u001b[43moptions\u001b[49m\u001b[43m)\u001b[49m\n\u001b[1;32m     94\u001b[0m \u001b[38;5;66;03m#plot unit\u001b[39;00m\n\u001b[1;32m     95\u001b[0m plot_unit(x, y, z, elements, data2, is2d, isplanet, datatype, options, fig, axgrid, gridindex)\n",
      "File \u001b[0;32m/efs/issm/issm/trunk-jpl-denis/src/m/plot/processdata.py:19\u001b[0m, in \u001b[0;36mprocessdata\u001b[0;34m(md, data, options)\u001b[0m\n\u001b[1;32m      5\u001b[0m \u001b[38;5;124;03m\"\"\"PROCESSDATA - process data to be plotted\u001b[39;00m\n\u001b[1;32m      6\u001b[0m \n\u001b[1;32m      7\u001b[0m \u001b[38;5;124;03mdatatype = 1 -> elements\u001b[39;00m\n\u001b[0;32m   (...)\u001b[0m\n\u001b[1;32m     15\u001b[0m \u001b[38;5;124;03mSee also: PLOTMODEL, PROCESSMESH\u001b[39;00m\n\u001b[1;32m     16\u001b[0m \u001b[38;5;124;03m\"\"\"\u001b[39;00m\n\u001b[1;32m     17\u001b[0m \u001b[38;5;66;03m# {{{ Initialization and grabbing auxiliaries\u001b[39;00m\n\u001b[1;32m     18\u001b[0m \u001b[38;5;66;03m# check format\u001b[39;00m\n\u001b[0;32m---> 19\u001b[0m \u001b[38;5;28;01mif\u001b[39;00m (\u001b[38;5;28;43mlen\u001b[39;49m\u001b[43m(\u001b[49m\u001b[43mdata\u001b[49m\u001b[43m)\u001b[49m \u001b[38;5;241m==\u001b[39m \u001b[38;5;241m0\u001b[39m \u001b[38;5;129;01mor\u001b[39;00m (\u001b[38;5;28mlen\u001b[39m(data) \u001b[38;5;241m==\u001b[39m \u001b[38;5;241m1\u001b[39m \u001b[38;5;129;01mand\u001b[39;00m \u001b[38;5;129;01mnot\u001b[39;00m \u001b[38;5;28misinstance\u001b[39m(data, \u001b[38;5;28mdict\u001b[39m) \u001b[38;5;129;01mand\u001b[39;00m np\u001b[38;5;241m.\u001b[39misnan(data)\u001b[38;5;241m.\u001b[39mall())):\n\u001b[1;32m     20\u001b[0m     \u001b[38;5;28;01mraise\u001b[39;00m \u001b[38;5;167;01mValueError\u001b[39;00m(\u001b[38;5;124m\"\u001b[39m\u001b[38;5;124mprocessdata error message: \u001b[39m\u001b[38;5;124m'\u001b[39m\u001b[38;5;124mdata\u001b[39m\u001b[38;5;124m'\u001b[39m\u001b[38;5;124m provided is empty\u001b[39m\u001b[38;5;124m\"\u001b[39m)\n\u001b[1;32m     21\u001b[0m \u001b[38;5;66;03m# get the shape\u001b[39;00m\n",
      "\u001b[0;31mTypeError\u001b[0m: object of type 'float' has no len()"
     ]
    },
    {
     "data": {
      "image/png": "[encoded data removed]",
      "text/plain": [
       "<Figure size 432x288 with 2 Axes>"
      ]
     },
     "metadata": {},
     "output_type": "display_data"
    }
   ],
   "source": [
    "plotmodel(md, 'data', md.mask.ice_levelset)"
   ]
  },
  {
   "cell_type": "code",
   "execution_count": 6,
   "id": "attractive-protest",
   "metadata": {},
   "outputs": [],
   "source": [
    "## Relaxation\n",
    "#Put results of inversion back into the model for forward runs\n",
    "md.friction.coefficient=md.results.StressbalanceSolution.FrictionCoefficient\n",
    "relaxation_years = 5 #try 5 years if 1 runs quickly\n",
    "\n",
    "# Special post-processing of inverted friction coefficient\n",
    "filename = 'Exp/' +region+ '_coeffront_after_inversion.exp'\n",
    "if os.path.isfile(filename):\n",
    "  pos = find(ContourToNodes(md.mesh.x, md.mesh.y, filename, 1))\n",
    "  md.friction.coefficient[pos] = 10\n",
    "\n",
    "md.initialization.pressure = np.zeros([md.mesh.numberofvertices,1])\n",
    "md.initialization.temperature = 250*np.ones([md.mesh.numberofvertices,1])\n",
    "\n",
    "# Set parameters\n",
    "md.inversion.iscontrol=0;\n",
    "md.timestepping.start_time = start_year;\n",
    "md.timestepping.time_step  = .02;\n",
    "md.timestepping.final_time = start_year + relaxation_years;\n",
    "md.settings.output_frequency = (1/md.timestepping.time_step)/5; # 5/yr"
   ]
  },
  {
   "cell_type": "code",
   "execution_count": 7,
   "id": "warming-assumption",
   "metadata": {
    "tags": []
   },
   "outputs": [
    {
     "name": "stdout",
     "output_type": "stream",
     "text": [
      "checking model consistency\n",
      "model not consistent: field mask.ice_levelset dimension  # 0 should be of size 12112\n"
     ]
    },
    {
     "ename": "TypeError",
     "evalue": "no ice present in the domain",
     "output_type": "error",
     "traceback": [
      "\u001b[0;31m---------------------------------------------------------------------------\u001b[0m",
      "\u001b[0;31mTypeError\u001b[0m                                 Traceback (most recent call last)",
      "Input \u001b[0;32mIn [7]\u001b[0m, in \u001b[0;36m<cell line: 26>\u001b[0;34m()\u001b[0m\n\u001b[1;32m     24\u001b[0m md\u001b[38;5;241m.\u001b[39mcluster \u001b[38;5;241m=\u001b[39m generic()\n\u001b[1;32m     25\u001b[0m md\u001b[38;5;241m.\u001b[39msettings\u001b[38;5;241m.\u001b[39mwaitonlock \u001b[38;5;241m=\u001b[39m np\u001b[38;5;241m.\u001b[39minf\n\u001b[0;32m---> 26\u001b[0m md \u001b[38;5;241m=\u001b[39m \u001b[43msolve\u001b[49m\u001b[43m(\u001b[49m\u001b[43mmd\u001b[49m\u001b[43m,\u001b[49m\u001b[38;5;124;43m'\u001b[39;49m\u001b[38;5;124;43mtransient\u001b[39;49m\u001b[38;5;124;43m'\u001b[39;49m\u001b[43m)\u001b[49m\n",
      "File \u001b[0;32m/efs/issm/issm/trunk-jpl-denis/src/m/solve/solve.py:101\u001b[0m, in \u001b[0;36msolve\u001b[0;34m(md, solutionstring, *args)\u001b[0m\n\u001b[1;32m     99\u001b[0m     \u001b[38;5;28;01mif\u001b[39;00m md\u001b[38;5;241m.\u001b[39mverbose\u001b[38;5;241m.\u001b[39msolution:\n\u001b[1;32m    100\u001b[0m         \u001b[38;5;28mprint\u001b[39m(\u001b[38;5;124m\"\u001b[39m\u001b[38;5;124mchecking model consistency\u001b[39m\u001b[38;5;124m\"\u001b[39m)\n\u001b[0;32m--> 101\u001b[0m     \u001b[43mismodelselfconsistent\u001b[49m\u001b[43m(\u001b[49m\u001b[43mmd\u001b[49m\u001b[43m)\u001b[49m\n\u001b[1;32m    103\u001b[0m \u001b[38;5;66;03m# If we are restarting, actually use the provided runtime name\u001b[39;00m\n\u001b[1;32m    104\u001b[0m restart \u001b[38;5;241m=\u001b[39m options\u001b[38;5;241m.\u001b[39mgetfieldvalue(\u001b[38;5;124m'\u001b[39m\u001b[38;5;124mrestart\u001b[39m\u001b[38;5;124m'\u001b[39m, \u001b[38;5;124m'\u001b[39m\u001b[38;5;124m'\u001b[39m)\n",
      "File \u001b[0;32m/efs/issm/issm/trunk-jpl-denis/src/m/consistency/ismodelselfconsistent.py:30\u001b[0m, in \u001b[0;36mismodelselfconsistent\u001b[0;34m(md)\u001b[0m\n\u001b[1;32m     27\u001b[0m         md\u001b[38;5;241m.\u001b[39mcheckmessage(\u001b[38;5;124m'\u001b[39m\u001b[38;5;124mfield \u001b[39m\u001b[38;5;132;01m{}\u001b[39;00m\u001b[38;5;124m is not an object.\u001b[39m\u001b[38;5;124m'\u001b[39m\u001b[38;5;241m.\u001b[39mformat(field))\n\u001b[1;32m     29\u001b[0m     \u001b[38;5;66;03m# Check consistency of the object\u001b[39;00m\n\u001b[0;32m---> 30\u001b[0m     \u001b[43mexec\u001b[49m\u001b[43m(\u001b[49m\u001b[38;5;124;43m'\u001b[39;49m\u001b[38;5;124;43mmd.\u001b[39;49m\u001b[38;5;132;43;01m{}\u001b[39;49;00m\u001b[38;5;124;43m.checkconsistency(md, \u001b[39;49m\u001b[38;5;130;43;01m\\'\u001b[39;49;00m\u001b[38;5;132;43;01m{}\u001b[39;49;00m\u001b[38;5;130;43;01m\\'\u001b[39;49;00m\u001b[38;5;124;43m, \u001b[39;49m\u001b[38;5;132;43;01m{}\u001b[39;49;00m\u001b[38;5;124;43m)\u001b[39;49m\u001b[38;5;124;43m'\u001b[39;49m\u001b[38;5;241;43m.\u001b[39;49m\u001b[43mformat\u001b[49m\u001b[43m(\u001b[49m\u001b[43mfield\u001b[49m\u001b[43m,\u001b[49m\u001b[43m \u001b[49m\u001b[43msolution\u001b[49m\u001b[43m,\u001b[49m\u001b[43m \u001b[49m\u001b[43manalyses\u001b[49m\u001b[43m)\u001b[49m\u001b[43m)\u001b[49m\n\u001b[1;32m     32\u001b[0m \u001b[38;5;66;03m# Error message if mode is not consistent\u001b[39;00m\n\u001b[1;32m     33\u001b[0m \u001b[38;5;28;01mif\u001b[39;00m \u001b[38;5;129;01mnot\u001b[39;00m md\u001b[38;5;241m.\u001b[39mprivate\u001b[38;5;241m.\u001b[39misconsistent:\n",
      "File \u001b[0;32m<string>:1\u001b[0m, in \u001b[0;36m<module>\u001b[0;34m\u001b[0m\n",
      "File \u001b[0;32m/efs/issm/issm/trunk-jpl-denis/src/m/classes/mask.py:87\u001b[0m, in \u001b[0;36mmask.checkconsistency\u001b[0;34m(self, md, solution, analyses)\u001b[0m\n\u001b[1;32m     85\u001b[0m isice \u001b[38;5;241m=\u001b[39m np\u001b[38;5;241m.\u001b[39marray(md\u001b[38;5;241m.\u001b[39mmask\u001b[38;5;241m.\u001b[39mice_levelset \u001b[38;5;241m<\u001b[39m\u001b[38;5;241m=\u001b[39m \u001b[38;5;241m0\u001b[39m, \u001b[38;5;28mint\u001b[39m)\n\u001b[1;32m     86\u001b[0m \u001b[38;5;28;01mif\u001b[39;00m np\u001b[38;5;241m.\u001b[39msum(isice) \u001b[38;5;241m==\u001b[39m \u001b[38;5;241m0\u001b[39m:\n\u001b[0;32m---> 87\u001b[0m     \u001b[38;5;28;01mraise\u001b[39;00m \u001b[38;5;167;01mTypeError\u001b[39;00m(\u001b[38;5;124m\"\u001b[39m\u001b[38;5;124mno ice present in the domain\u001b[39m\u001b[38;5;124m\"\u001b[39m)\n\u001b[1;32m     89\u001b[0m \u001b[38;5;28;01mreturn\u001b[39;00m md\n",
      "\u001b[0;31mTypeError\u001b[0m: no ice present in the domain"
     ]
    }
   ],
   "source": [
    "# We set the transient parameters\n",
    "md.transient.ismovingfront=0\n",
    "md.transient.isthermal=0\n",
    "md.transient.isstressbalance=1\n",
    "md.transient.ismasstransport=1\n",
    "md.transient.isgroundingline=1\n",
    "md.groundingline.migration = 'SubelementMigration'\n",
    "\n",
    "# We set the calving model (no moving front ... spclevelset is actually ignored)\n",
    "md.levelset.spclevelset = md.levelset.spclevelset\n",
    "md.calving.calvingrate = np.zeros([md.mesh.numberofvertices,1])\n",
    "md.calving.meltingrate = np.zeros([md.mesh.numberofvertices,1])\n",
    "\n",
    "# Set bed = base for grounded ice\n",
    "#md.geometry.base = md.geometry.bed\n",
    "#md.geometry.thickness = md.geometry.surface - md.geometry.base\n",
    "\n",
    "# Set the requested outputs\n",
    "md.stressbalance.requested_outputs=['default']\n",
    "md.transient.requested_outputs=['default','IceVolumeAboveFloatation']\n",
    "\n",
    "# Go solve\n",
    "md.verbose.solution=1\n",
    "md.cluster = generic()\n",
    "md.settings.waitonlock = np.inf\n",
    "md = solve(md,'transient')"
   ]
  },
  {
   "cell_type": "code",
   "execution_count": null,
   "id": "signed-factor",
   "metadata": {},
   "outputs": [],
   "source": [
    "from export_netCDF import export_netCDF\n",
    "export_netCDF(md, \"relaxation\")"
   ]
  }
 ],
 "metadata": {
  "kernelspec": {
   "display_name": "Python [conda env:lhs]",
   "language": "python",
   "name": "conda-env-lhs-py"
  },
  "language_info": {
   "codemirror_mode": {
    "name": "ipython",
    "version": 3
   },
   "file_extension": ".py",
   "mimetype": "text/x-python",
   "name": "python",
   "nbconvert_exporter": "python",
   "pygments_lexer": "ipython3",
   "version": "3.8.8"
  }
 },
 "nbformat": 4,
 "nbformat_minor": 5
}
