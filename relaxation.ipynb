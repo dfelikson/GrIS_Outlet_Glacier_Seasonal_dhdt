{
 "cells": [
  {
   "cell_type": "code",
   "execution_count": 1,
   "id": "honest-brass",
   "metadata": {
    "tags": []
   },
   "outputs": [
    {
     "name": "stdout",
     "output_type": "stream",
     "text": [
      "could not import shapefile, PyShp has not been installed, no shapefile reading capabilities enabled\n"
     ]
    }
   ],
   "source": [
    "#+++++++++++++++++++++++++++++++++++++++++++++++++++++++++++++++++++++++\n",
    "# Script to run and export ISSM relaxation\n",
    "# Mikayla Pascual 07/13/22\n",
    "#+++++++++++++++++++++++++++++++++++++++++++++++++++++++++++++++++++++++\n",
    "\n",
    "#import \n",
    "from MatlabFuncs import *\n",
    "from model import *\n",
    "from triangle import *\n",
    "from bamg import bamg\n",
    "from savevars import *\n",
    "import plotdoc\n",
    "from loadmodel import *\n",
    "from os.path import exists\n",
    "\n",
    "from scipy.io import loadmat\n",
    "from m1qn3inversion import *\n",
    "import numpy as np\n",
    "from ContourToNodes import *\n",
    "from solve import *\n",
    "\n",
    "import lhsmdu #install in terminal 'pip install lhsmdu'\n",
    "import matplotlib.pyplot as plt\n",
    "import numpy as np\n",
    "import pickle\n",
    "\n"
   ]
  },
  {
   "cell_type": "code",
   "execution_count": 2,
   "id": "circular-psychology",
   "metadata": {
    "tags": []
   },
   "outputs": [],
   "source": [
    "region = 'SAtoES'\n",
    "start_year = 1985."
   ]
  },
  {
   "cell_type": "code",
   "execution_count": 3,
   "id": "above-founder",
   "metadata": {
    "tags": []
   },
   "outputs": [
    {
     "name": "stdout",
     "output_type": "stream",
     "text": [
      "Opening ./Models/SAtoES_inversion.nc for reading \n",
      "solidearthsettings.solidearthsettings\n",
      "lovenumbers.lovenumbers\n",
      "rotational.rotational\n",
      "results.solutionstep\n",
      "empty init\n"
     ]
    },
    {
     "data": {
      "image/png": "[encoded data removed]",
      "text/plain": [
       "<Figure size 432x288 with 2 Axes>"
      ]
     },
     "metadata": {},
     "output_type": "display_data"
    }
   ],
   "source": [
    "md = loadmodel('./Models/SAtoES_inversion.nc')\n",
    "plotmodel(md, 'data', md.mask.ice_levelset)"
   ]
  },
  {
   "cell_type": "code",
   "execution_count": 4,
   "id": "sonic-uncle",
   "metadata": {
    "tags": []
   },
   "outputs": [],
   "source": [
    "## Relaxation\n",
    "#Put results of inversion back into the model for forward runs\n",
    "md.friction.coefficient=md.results.StressbalanceSolution.FrictionCoefficient\n",
    "relaxation_years = 1 #try 5 years if 1 runs quickly\n",
    "\n",
    "# Special post-processing of inverted friction coefficient\n",
    "filename = 'Exp/' +region+ '_coeffront_after_inversion.exp'\n",
    "if os.path.isfile(filename):\n",
    "  pos = find(ContourToNodes(md.mesh.x, md.mesh.y, filename, 1))\n",
    "  md.friction.coefficient[pos] = 10\n",
    "\n",
    "md.initialization.pressure = np.zeros([md.mesh.numberofvertices,1])\n",
    "md.initialization.temperature = 250*np.ones([md.mesh.numberofvertices,1])\n",
    "\n",
    "# Set parameters\n",
    "md.inversion.iscontrol=0;\n",
    "md.timestepping.start_time = start_year;\n",
    "md.timestepping.time_step  = .02;\n",
    "md.timestepping.final_time = start_year + relaxation_years;\n",
    "md.settings.output_frequency = (1/md.timestepping.time_step)/5; # 5/yr"
   ]
  },
  {
   "cell_type": "code",
   "execution_count": 25,
   "id": "electric-programmer",
   "metadata": {},
   "outputs": [
    {
     "data": {
      "text/plain": [
       "   Frontalforcings parameters:\n",
       "         basin                  : N/A             -- basin ID for vertices\n",
       "         numberofbasins         : 0.0             -- number of basins\n",
       "         subglacial_discharge   : N/A             -- sum of subglacial discharge for each basin [m / d]\n",
       "         thermalforcing         : N/A             -- thermal forcing [C]"
      ]
     },
     "execution_count": 25,
     "metadata": {},
     "output_type": "execute_result"
    }
   ],
   "source": [
    "from frontalforcingsrignot import frontalforcingsrignot\n",
    "frontalforcingsrignot()"
   ]
  },
  {
   "cell_type": "code",
   "execution_count": 29,
   "id": "alternate-numbers",
   "metadata": {
    "tags": []
   },
   "outputs": [
    {
     "name": "stdout",
     "output_type": "stream",
     "text": [
      "checking model consistency\n"
     ]
    },
    {
     "ename": "ValueError",
     "evalue": "zero-size array to reduction operation fmin which has no identity",
     "output_type": "error",
     "traceback": [
      "\u001b[0;31m---------------------------------------------------------------------------\u001b[0m",
      "\u001b[0;31mValueError\u001b[0m                                Traceback (most recent call last)",
      "Input \u001b[0;32mIn [29]\u001b[0m, in \u001b[0;36m<cell line: 36>\u001b[0;34m()\u001b[0m\n\u001b[1;32m     34\u001b[0m md\u001b[38;5;241m.\u001b[39mcluster \u001b[38;5;241m=\u001b[39m generic()\n\u001b[1;32m     35\u001b[0m md\u001b[38;5;241m.\u001b[39msettings\u001b[38;5;241m.\u001b[39mwaitonlock \u001b[38;5;241m=\u001b[39m np\u001b[38;5;241m.\u001b[39minf\n\u001b[0;32m---> 36\u001b[0m md \u001b[38;5;241m=\u001b[39m \u001b[43msolve\u001b[49m\u001b[43m(\u001b[49m\u001b[43mmd\u001b[49m\u001b[43m,\u001b[49m\u001b[38;5;124;43m'\u001b[39;49m\u001b[38;5;124;43mtransient\u001b[39;49m\u001b[38;5;124;43m'\u001b[39;49m\u001b[43m)\u001b[49m\n",
      "File \u001b[0;32m/efs/issm/issm/trunk-jpl-denis/src/m/solve/solve.py:101\u001b[0m, in \u001b[0;36msolve\u001b[0;34m(md, solutionstring, *args)\u001b[0m\n\u001b[1;32m     99\u001b[0m     \u001b[38;5;28;01mif\u001b[39;00m md\u001b[38;5;241m.\u001b[39mverbose\u001b[38;5;241m.\u001b[39msolution:\n\u001b[1;32m    100\u001b[0m         \u001b[38;5;28mprint\u001b[39m(\u001b[38;5;124m\"\u001b[39m\u001b[38;5;124mchecking model consistency\u001b[39m\u001b[38;5;124m\"\u001b[39m)\n\u001b[0;32m--> 101\u001b[0m     \u001b[43mismodelselfconsistent\u001b[49m\u001b[43m(\u001b[49m\u001b[43mmd\u001b[49m\u001b[43m)\u001b[49m\n\u001b[1;32m    103\u001b[0m \u001b[38;5;66;03m# If we are restarting, actually use the provided runtime name\u001b[39;00m\n\u001b[1;32m    104\u001b[0m restart \u001b[38;5;241m=\u001b[39m options\u001b[38;5;241m.\u001b[39mgetfieldvalue(\u001b[38;5;124m'\u001b[39m\u001b[38;5;124mrestart\u001b[39m\u001b[38;5;124m'\u001b[39m, \u001b[38;5;124m'\u001b[39m\u001b[38;5;124m'\u001b[39m)\n",
      "File \u001b[0;32m/efs/issm/issm/trunk-jpl-denis/src/m/consistency/ismodelselfconsistent.py:30\u001b[0m, in \u001b[0;36mismodelselfconsistent\u001b[0;34m(md)\u001b[0m\n\u001b[1;32m     27\u001b[0m         md\u001b[38;5;241m.\u001b[39mcheckmessage(\u001b[38;5;124m'\u001b[39m\u001b[38;5;124mfield \u001b[39m\u001b[38;5;132;01m{}\u001b[39;00m\u001b[38;5;124m is not an object.\u001b[39m\u001b[38;5;124m'\u001b[39m\u001b[38;5;241m.\u001b[39mformat(field))\n\u001b[1;32m     29\u001b[0m     \u001b[38;5;66;03m# Check consistency of the object\u001b[39;00m\n\u001b[0;32m---> 30\u001b[0m     \u001b[43mexec\u001b[49m\u001b[43m(\u001b[49m\u001b[38;5;124;43m'\u001b[39;49m\u001b[38;5;124;43mmd.\u001b[39;49m\u001b[38;5;132;43;01m{}\u001b[39;49;00m\u001b[38;5;124;43m.checkconsistency(md, \u001b[39;49m\u001b[38;5;130;43;01m\\'\u001b[39;49;00m\u001b[38;5;132;43;01m{}\u001b[39;49;00m\u001b[38;5;130;43;01m\\'\u001b[39;49;00m\u001b[38;5;124;43m, \u001b[39;49m\u001b[38;5;132;43;01m{}\u001b[39;49;00m\u001b[38;5;124;43m)\u001b[39;49m\u001b[38;5;124;43m'\u001b[39;49m\u001b[38;5;241;43m.\u001b[39;49m\u001b[43mformat\u001b[49m\u001b[43m(\u001b[49m\u001b[43mfield\u001b[49m\u001b[43m,\u001b[49m\u001b[43m \u001b[49m\u001b[43msolution\u001b[49m\u001b[43m,\u001b[49m\u001b[43m \u001b[49m\u001b[43manalyses\u001b[49m\u001b[43m)\u001b[49m\u001b[43m)\u001b[49m\n\u001b[1;32m     32\u001b[0m \u001b[38;5;66;03m# Error message if mode is not consistent\u001b[39;00m\n\u001b[1;32m     33\u001b[0m \u001b[38;5;28;01mif\u001b[39;00m \u001b[38;5;129;01mnot\u001b[39;00m md\u001b[38;5;241m.\u001b[39mprivate\u001b[38;5;241m.\u001b[39misconsistent:\n",
      "File \u001b[0;32m<string>:1\u001b[0m, in \u001b[0;36m<module>\u001b[0;34m\u001b[0m\n",
      "File \u001b[0;32m/efs/issm/issm/trunk-jpl-denis/src/m/classes/frontalforcingsrignot.py:51\u001b[0m, in \u001b[0;36mfrontalforcingsrignot.checkconsistency\u001b[0;34m(self, md, solution, analyses)\u001b[0m\n\u001b[1;32m     49\u001b[0m md \u001b[38;5;241m=\u001b[39m checkfield(md, \u001b[38;5;124m'\u001b[39m\u001b[38;5;124mfieldname\u001b[39m\u001b[38;5;124m'\u001b[39m, \u001b[38;5;124m'\u001b[39m\u001b[38;5;124mfrontalforcings.basin\u001b[39m\u001b[38;5;124m'\u001b[39m, \u001b[38;5;124m'\u001b[39m\u001b[38;5;124m>\u001b[39m\u001b[38;5;124m'\u001b[39m, \u001b[38;5;241m0\u001b[39m, \u001b[38;5;124m'\u001b[39m\u001b[38;5;124mnan\u001b[39m\u001b[38;5;124m'\u001b[39m, \u001b[38;5;241m1\u001b[39m, \u001b[38;5;124m'\u001b[39m\u001b[38;5;124mInf\u001b[39m\u001b[38;5;124m'\u001b[39m, \u001b[38;5;241m1\u001b[39m)\n\u001b[1;32m     50\u001b[0m md \u001b[38;5;241m=\u001b[39m checkfield(md, \u001b[38;5;124m'\u001b[39m\u001b[38;5;124mfieldname\u001b[39m\u001b[38;5;124m'\u001b[39m, \u001b[38;5;124m'\u001b[39m\u001b[38;5;124mfrontalforcings.numberofbasins\u001b[39m\u001b[38;5;124m'\u001b[39m, \u001b[38;5;124m'\u001b[39m\u001b[38;5;124mnumel\u001b[39m\u001b[38;5;124m'\u001b[39m, [\u001b[38;5;241m1\u001b[39m])\n\u001b[0;32m---> 51\u001b[0m md \u001b[38;5;241m=\u001b[39m \u001b[43mcheckfield\u001b[49m\u001b[43m(\u001b[49m\u001b[43mmd\u001b[49m\u001b[43m,\u001b[49m\u001b[43m \u001b[49m\u001b[38;5;124;43m'\u001b[39;49m\u001b[38;5;124;43mfieldname\u001b[39;49m\u001b[38;5;124;43m'\u001b[39;49m\u001b[43m,\u001b[49m\u001b[43m \u001b[49m\u001b[38;5;124;43m'\u001b[39;49m\u001b[38;5;124;43mfrontalforcings.subglacial_discharge\u001b[39;49m\u001b[38;5;124;43m'\u001b[39;49m\u001b[43m,\u001b[49m\u001b[43m \u001b[49m\u001b[38;5;124;43m'\u001b[39;49m\u001b[38;5;124;43m>=\u001b[39;49m\u001b[38;5;124;43m'\u001b[39;49m\u001b[43m,\u001b[49m\u001b[43m \u001b[49m\u001b[38;5;241;43m0\u001b[39;49m\u001b[43m,\u001b[49m\u001b[43m \u001b[49m\u001b[38;5;124;43m'\u001b[39;49m\u001b[38;5;124;43mnan\u001b[39;49m\u001b[38;5;124;43m'\u001b[39;49m\u001b[43m,\u001b[49m\u001b[43m \u001b[49m\u001b[38;5;241;43m1\u001b[39;49m\u001b[43m,\u001b[49m\u001b[43m \u001b[49m\u001b[38;5;124;43m'\u001b[39;49m\u001b[38;5;124;43mInf\u001b[39;49m\u001b[38;5;124;43m'\u001b[39;49m\u001b[43m,\u001b[49m\u001b[43m \u001b[49m\u001b[38;5;241;43m1\u001b[39;49m\u001b[43m,\u001b[49m\u001b[43m \u001b[49m\u001b[38;5;124;43m'\u001b[39;49m\u001b[38;5;124;43mtimeseries\u001b[39;49m\u001b[38;5;124;43m'\u001b[39;49m\u001b[43m,\u001b[49m\u001b[43m \u001b[49m\u001b[38;5;241;43m1\u001b[39;49m\u001b[43m)\u001b[49m\n\u001b[1;32m     52\u001b[0m md \u001b[38;5;241m=\u001b[39m checkfield(md, \u001b[38;5;124m'\u001b[39m\u001b[38;5;124mfieldname\u001b[39m\u001b[38;5;124m'\u001b[39m, \u001b[38;5;124m'\u001b[39m\u001b[38;5;124mfrontalforcings.thermalforcing\u001b[39m\u001b[38;5;124m'\u001b[39m, \u001b[38;5;124m'\u001b[39m\u001b[38;5;124mnan\u001b[39m\u001b[38;5;124m'\u001b[39m, \u001b[38;5;241m1\u001b[39m, \u001b[38;5;124m'\u001b[39m\u001b[38;5;124mInf\u001b[39m\u001b[38;5;124m'\u001b[39m, \u001b[38;5;241m1\u001b[39m, \u001b[38;5;124m'\u001b[39m\u001b[38;5;124mtimeseries\u001b[39m\u001b[38;5;124m'\u001b[39m, \u001b[38;5;241m1\u001b[39m)\n\u001b[1;32m     53\u001b[0m \u001b[38;5;28;01mreturn\u001b[39;00m md\n",
      "File \u001b[0;32m/efs/issm/issm/trunk-jpl-denis/src/m/consistency/checkfield.py:171\u001b[0m, in \u001b[0;36mcheckfield\u001b[0;34m(md, *args)\u001b[0m\n\u001b[1;32m    169\u001b[0m minval \u001b[38;5;241m=\u001b[39m np\u001b[38;5;241m.\u001b[39mnanmin(field)\n\u001b[1;32m    170\u001b[0m \u001b[38;5;28;01mif\u001b[39;00m options\u001b[38;5;241m.\u001b[39mgetfieldvalue(\u001b[38;5;124m'\u001b[39m\u001b[38;5;124mtimeseries\u001b[39m\u001b[38;5;124m'\u001b[39m, \u001b[38;5;241m0\u001b[39m):\n\u001b[0;32m--> 171\u001b[0m     minval \u001b[38;5;241m=\u001b[39m \u001b[43mnp\u001b[49m\u001b[38;5;241;43m.\u001b[39;49m\u001b[43mnanmin\u001b[49m\u001b[43m(\u001b[49m\u001b[43mfield\u001b[49m\u001b[43m[\u001b[49m\u001b[43m:\u001b[49m\u001b[38;5;241;43m-\u001b[39;49m\u001b[38;5;241;43m1\u001b[39;49m\u001b[43m]\u001b[49m\u001b[43m)\u001b[49m\n\u001b[1;32m    172\u001b[0m \u001b[38;5;28;01melif\u001b[39;00m options\u001b[38;5;241m.\u001b[39mgetfieldvalue(\u001b[38;5;124m'\u001b[39m\u001b[38;5;124msingletimeseries\u001b[39m\u001b[38;5;124m'\u001b[39m, \u001b[38;5;241m0\u001b[39m):\n\u001b[1;32m    173\u001b[0m     \u001b[38;5;28;01mif\u001b[39;00m np\u001b[38;5;241m.\u001b[39msize(field) \u001b[38;5;241m==\u001b[39m \u001b[38;5;241m1\u001b[39m:  \u001b[38;5;66;03m#some singletimeseries are just one value\u001b[39;00m\n",
      "File \u001b[0;32m<__array_function__ internals>:180\u001b[0m, in \u001b[0;36mnanmin\u001b[0;34m(*args, **kwargs)\u001b[0m\n",
      "File \u001b[0;32m~/users_conda_envs/lhs/lib/python3.8/site-packages/numpy/lib/nanfunctions.py:343\u001b[0m, in \u001b[0;36mnanmin\u001b[0;34m(a, axis, out, keepdims, initial, where)\u001b[0m\n\u001b[1;32m    338\u001b[0m     kwargs[\u001b[38;5;124m'\u001b[39m\u001b[38;5;124mwhere\u001b[39m\u001b[38;5;124m'\u001b[39m] \u001b[38;5;241m=\u001b[39m where\n\u001b[1;32m    340\u001b[0m \u001b[38;5;28;01mif\u001b[39;00m \u001b[38;5;28mtype\u001b[39m(a) \u001b[38;5;129;01mis\u001b[39;00m np\u001b[38;5;241m.\u001b[39mndarray \u001b[38;5;129;01mand\u001b[39;00m a\u001b[38;5;241m.\u001b[39mdtype \u001b[38;5;241m!=\u001b[39m np\u001b[38;5;241m.\u001b[39mobject_:\n\u001b[1;32m    341\u001b[0m     \u001b[38;5;66;03m# Fast, but not safe for subclasses of ndarray, or object arrays,\u001b[39;00m\n\u001b[1;32m    342\u001b[0m     \u001b[38;5;66;03m# which do not implement isnan (gh-9009), or fmin correctly (gh-8975)\u001b[39;00m\n\u001b[0;32m--> 343\u001b[0m     res \u001b[38;5;241m=\u001b[39m \u001b[43mnp\u001b[49m\u001b[38;5;241;43m.\u001b[39;49m\u001b[43mfmin\u001b[49m\u001b[38;5;241;43m.\u001b[39;49m\u001b[43mreduce\u001b[49m\u001b[43m(\u001b[49m\u001b[43ma\u001b[49m\u001b[43m,\u001b[49m\u001b[43m \u001b[49m\u001b[43maxis\u001b[49m\u001b[38;5;241;43m=\u001b[39;49m\u001b[43maxis\u001b[49m\u001b[43m,\u001b[49m\u001b[43m \u001b[49m\u001b[43mout\u001b[49m\u001b[38;5;241;43m=\u001b[39;49m\u001b[43mout\u001b[49m\u001b[43m,\u001b[49m\u001b[43m \u001b[49m\u001b[38;5;241;43m*\u001b[39;49m\u001b[38;5;241;43m*\u001b[39;49m\u001b[43mkwargs\u001b[49m\u001b[43m)\u001b[49m\n\u001b[1;32m    344\u001b[0m     \u001b[38;5;28;01mif\u001b[39;00m np\u001b[38;5;241m.\u001b[39misnan(res)\u001b[38;5;241m.\u001b[39many():\n\u001b[1;32m    345\u001b[0m         warnings\u001b[38;5;241m.\u001b[39mwarn(\u001b[38;5;124m\"\u001b[39m\u001b[38;5;124mAll-NaN slice encountered\u001b[39m\u001b[38;5;124m\"\u001b[39m, \u001b[38;5;167;01mRuntimeWarning\u001b[39;00m,\n\u001b[1;32m    346\u001b[0m                       stacklevel\u001b[38;5;241m=\u001b[39m\u001b[38;5;241m3\u001b[39m)\n",
      "\u001b[0;31mValueError\u001b[0m: zero-size array to reduction operation fmin which has no identity"
     ]
    }
   ],
   "source": [
    "# We set the transient parameters\n",
    "md.transient.ismovingfront=1\n",
    "md.transient.isthermal=0\n",
    "md.transient.isstressbalance=1\n",
    "md.transient.ismasstransport=1\n",
    "md.transient.isgroundingline=1\n",
    "md.groundingline.migration = 'SubelementMigration'\n",
    "\n",
    "# We set the ocean conditions\n",
    "from frontalforcingsrignot import frontalforcingsrignot\n",
    "md.frontalforcings = frontalforcingsrignot()\n",
    "md.frontalforcings.subglacial_discharge = 2.6\n",
    "md.frontalforcings.thermalforcing = 15.7\n",
    "\n",
    "# We set the calving model (no moving front ... spclevelset is actually ignored)\n",
    "from calvingvonmises import calvingvonmises\n",
    "md.calving = calvingvonmises()\n",
    "md.calving.stress_threshold_groundedice = md.calving.stress_threshold_groundedice * 0.1\n",
    "md.levelset.spclevelset = np.nan * np.ones([md.mesh.numberofvertices,1])\n",
    "#md.calving.calvingrate = np.zeros([md.mesh.numberofvertices,1])\n",
    "#md.frontalforcings.meltingrate = np.zeros([md.mesh.numberofvertices,1])\n",
    "#md.calving.meltingrate = np.ones([md.mesh.numberofvertices,1])\n",
    "\n",
    "# Set bed = base for grounded ice\n",
    "#md.geometry.base = md.geometry.bed\n",
    "#md.geometry.thickness = md.geometry.surface - md.geometry.base\n",
    "\n",
    "# Set the requested outputs\n",
    "md.stressbalance.requested_outputs=['default']\n",
    "md.transient.requested_outputs=['default','IceVolumeAboveFloatation']\n",
    "\n",
    "# Go solve\n",
    "md.verbose.solution=1\n",
    "md.cluster = generic()\n",
    "md.settings.waitonlock = np.inf\n",
    "md = solve(md,'transient')"
   ]
  },
  {
   "cell_type": "code",
   "execution_count": 6,
   "id": "mexican-hopkins",
   "metadata": {
    "tags": []
   },
   "outputs": [
    {
     "name": "stdout",
     "output_type": "stream",
     "text": [
      "File ./Models/SAtoES_relaxation.nc allready exist\n"
     ]
    },
    {
     "name": "stdin",
     "output_type": "stream",
     "text": [
      "Give a new name or \"delete\" to replace:  delete\n"
     ]
    },
    {
     "name": "stdout",
     "output_type": "stream",
     "text": [
      "field md.solidearth.external is None\n",
      "qmu is skipped until it is more stable\n"
     ]
    }
   ],
   "source": [
    "from export_netCDF import export_netCDF\n",
    "\n",
    "md.inversion.cost_functions = md.inversion.cost_functions.astype(np.float64)\n",
    "for i in range(len(md.results.TransientSolution)):\n",
    "    md.results.TransientSolution[i].step = np.float64(md.results.TransientSolution[i].step)\n",
    "    \n",
    "export_netCDF(md, \"./Models/SAtoES_relaxation.nc\")"
   ]
  },
  {
   "cell_type": "code",
   "execution_count": 7,
   "id": "interior-situation",
   "metadata": {
    "tags": []
   },
   "outputs": [
    {
     "data": {
      "text/plain": [
       "[<matplotlib.lines.Line2D at 0x7fa0cadeb340>]"
      ]
     },
     "execution_count": 7,
     "metadata": {},
     "output_type": "execute_result"
    },
    {
     "data": {
      "image/png": "[encoded data removed]",
      "text/plain": [
       "<Figure size 432x288 with 2 Axes>"
      ]
     },
     "metadata": {},
     "output_type": "display_data"
    }
   ],
   "source": [
    "time = [md.results.TransientSolution[i].time for i in range(len(md.results.TransientSolution))]\n",
    "VAF = [md.results.TransientSolution[i].IceVolumeAboveFloatation for i in range(len(md.results.TransientSolution))]\n",
    "\n",
    "# Look for terminus advance\n",
    "idx = np.logical_and(np.array(md.mask.ice_levelset) > 0, \\\n",
    "                     np.array(md.results.TransientSolution[5].MaskIceLevelset).ravel() <= 0)\n",
    "pos_advance = np.where(idx)[0]\n",
    "\n",
    "# Look for terminus retreat\n",
    "idx = np.logical_and(np.array(md.mask.ice_levelset) < 0, \\\n",
    "                     np.array(md.results.TransientSolution[5].MaskIceLevelset).ravel() >= 0)\n",
    "pos_retreat = np.where(idx)[0]\n",
    "\n",
    "#fig = plt.figure(figsize=(10,10))\n",
    "#plotmodel(md, 'data', np.array(md.mask.ice_levelset), \\\n",
    "#              'data', np.array(md.results.TransientSolution[5].MaskIceLevelset).ravel(), \\\n",
    "#              'caxis#all', [-1., +1.])\n",
    "plotmodel(md, 'data', np.array(md.mask.ice_levelset) - np.array(md.results.TransientSolution[5].MaskIceLevelset).ravel(), \\\n",
    "              'caxis#all', [-1, +1])\n",
    "\n",
    "plt.plot(md.mesh.x[pos_advance], md.mesh.y[pos_advance], 'g.')\n",
    "plt.plot(md.mesh.x[pos_retreat], md.mesh.y[pos_retreat], 'r.')"
   ]
  },
  {
   "cell_type": "code",
   "execution_count": 10,
   "id": "independent-method",
   "metadata": {
    "tags": []
   },
   "outputs": [
    {
     "data": {
      "text/plain": [
       "array([[-16710.24741481],\n",
       "       [  5284.22963663],\n",
       "       [  4062.45684144],\n",
       "       ...,\n",
       "       [  -812.40708016],\n",
       "       [ -1777.59417679],\n",
       "       [-89056.42866602]])"
      ]
     },
     "execution_count": 10,
     "metadata": {},
     "output_type": "execute_result"
    }
   ],
   "source": [
    "md.results.TransientSolution[5].MaskIceLevelset"
   ]
  },
  {
   "cell_type": "code",
   "execution_count": 25,
   "id": "common-newark",
   "metadata": {},
   "outputs": [
    {
     "data": {
      "text/plain": [
       "   Calving VonMises parameters:\n",
       "         stress_threshold_gro...: 500000.0        -- sigma_max applied to grounded ice only [Pa]\n",
       "         stress_threshold_flo...: 150000.0        -- sigma_max applied to floating ice only [Pa]\n",
       "         min_thickness          : 0.0             -- minimum thickness below which no ice is allowed [m]"
      ]
     },
     "execution_count": 25,
     "metadata": {},
     "output_type": "execute_result"
    }
   ],
   "source": [
    "md.calving"
   ]
  },
  {
   "cell_type": "code",
   "execution_count": null,
   "id": "turkish-feeling",
   "metadata": {},
   "outputs": [],
   "source": []
  }
 ],
 "metadata": {
  "kernelspec": {
   "display_name": "Python [conda env:lhs]",
   "language": "python",
   "name": "conda-env-lhs-py"
  },
  "language_info": {
   "codemirror_mode": {
    "name": "ipython",
    "version": 3
   },
   "file_extension": ".py",
   "mimetype": "text/x-python",
   "name": "python",
   "nbconvert_exporter": "python",
   "pygments_lexer": "ipython3",
   "version": "3.8.8"
  }
 },
 "nbformat": 4,
 "nbformat_minor": 5
}
