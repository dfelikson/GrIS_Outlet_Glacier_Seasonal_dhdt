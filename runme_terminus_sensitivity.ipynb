{
 "cells": [
  {
   "cell_type": "code",
   "execution_count": 39,
   "id": "appreciated-death",
   "metadata": {},
   "outputs": [],
   "source": [
    "#+++++++++++++++++++++++++++++++++++++++++++++++++++++++++++++++++++++++\n",
    "# Script to run runme_terminus_sensitivity.m tutorial translted from Matlab to Python\n",
    "# Mikayla Pascual 06/16/22\n",
    "#+++++++++++++++++++++++++++++++++++++++++++++++++++++++++++++++++++++++\n",
    "\n",
    "#import \n",
    "from MatlabFuncs import *"
   ]
  },
  {
   "cell_type": "code",
   "execution_count": 40,
   "id": "impressive-moses",
   "metadata": {},
   "outputs": [
    {
     "ename": "SyntaxError",
     "evalue": "invalid syntax (<ipython-input-40-546e1f3264a8>, line 16)",
     "output_type": "error",
     "traceback": [
      "\u001b[0;36m  File \u001b[0;32m\"<ipython-input-40-546e1f3264a8>\"\u001b[0;36m, line \u001b[0;32m16\u001b[0m\n\u001b[0;31m    cluster = generic('name', oshostname(), 'np', 2);\u001b[0m\n\u001b[0m    ^\u001b[0m\n\u001b[0;31mSyntaxError\u001b[0m\u001b[0;31m:\u001b[0m invalid syntax\n"
     ]
    }
   ],
   "source": [
    "steps = [4];\n",
    "clusterName = ''; # empty for localhost\n",
    "clusterName = 'oibserve';\n",
    "#clusterName = 'discover';\n",
    "\n",
    "## Setup\n",
    "region = 'WestGrIS';\n",
    "start_year = 1985;\n",
    "\n",
    "# To launch a job remotely and not wait, set the following:\n",
    "#  md.cluster.interactive = 0;\n",
    "#  md.settings.waitonlock = nan; or = 0;\n",
    "def switcher(case):\n",
    "    switch = {\n",
    "        case ('','gs15serac')\n",
    "            cluster = generic('name', oshostname(), 'np', 2);\n",
    "            waitonlock = 10; #nan;\n",
    "\n",
    "        case (oibserve)\n",
    "            cluster = generic('name', 'gs615-oibserve.ndc.nasa.gov', 'np', 12, 'interactive', 0, ...,\n",
    "                'login', 'dfelikso', ...,\n",
    "                'codepath', '/home/dfelikso/Software/ISSM/trunk-jpl/bin', ...,\n",
    "                'etcpath', '/home/dfelikso/Software/ISSM/trunk-jpl/etc', ...,\n",
    "                'executionpath', '/home/dfelikso/Projects/GrIS_Calibrated_SLR/ISSM/execution');\n",
    "            cluster.interactive = 0; #1;\n",
    "            waitonlock = nan; #10;\n",
    "\n",
    "        case (discover)\n",
    "            cluster=discover;\n",
    "            cluster.name='discover.nccs.nasa.gov';\n",
    "            cluster.login='dfelikso';\n",
    "            cluster.numnodes=1;\n",
    "            cluster.cpuspernode=16;\n",
    "            cluster.time=1*60;\n",
    "            cluster.interactive=0;\n",
    "            cluster.processor='sand';\n",
    "            cluster.queue='allnccs';\n",
    "            cluster.codepath='/discover/nobackup/dfelikso/Software/ISSM/trunk-jpl/bin';\n",
    "            cluster.executionpath='/discover/nobackup/dfelikso/Software/ISSM/trunk-jpl/execution';\n",
    "            cluster.email='denis.felikson@nasa.gov';\n",
    "            waitonlock = nan; \n",
    "}\n",
    "    return switcher.get(case,\"Invalid\")\n",
    "#switch(clusterName)\n"
   ]
  }
 ],
 "metadata": {
  "kernelspec": {
   "display_name": "Python 3",
   "language": "python",
   "name": "python3"
  },
  "language_info": {
   "codemirror_mode": {
    "name": "ipython",
    "version": 3
   },
   "file_extension": ".py",
   "mimetype": "text/x-python",
   "name": "python",
   "nbconvert_exporter": "python",
   "pygments_lexer": "ipython3",
   "version": "3.8.8"
  }
 },
 "nbformat": 4,
 "nbformat_minor": 5
}
