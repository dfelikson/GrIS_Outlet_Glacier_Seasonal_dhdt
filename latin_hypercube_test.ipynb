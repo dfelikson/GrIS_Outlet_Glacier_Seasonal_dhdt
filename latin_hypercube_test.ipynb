{
 "cells": [
  {
   "cell_type": "code",
   "execution_count": null,
   "id": "tribal-custom",
   "metadata": {},
   "outputs": [],
   "source": [
    "import lhsmdu\n",
    "import matplotlib.pyplot as plt\n",
    "import numpy as np"
   ]
  },
  {
   "cell_type": "code",
   "execution_count": 33,
   "id": "foster-psychiatry",
   "metadata": {},
   "outputs": [
    {
     "data": {
      "image/png": "[encoded data removed]",
      "text/plain": [
       "<Figure size 432x288 with 1 Axes>"
      ]
     },
     "metadata": {
      "needs_background": "light"
     },
     "output_type": "display_data"
    }
   ],
   "source": [
    "# from sahilm89/lhsmdu on Git\n",
    "\n",
    "k = lhsmdu.sample(5, 10) # Latin Hypercube Sampling with multi-dimensional uniformity, \n",
    "                        # 5 variables with 10 samples each\n",
    "k = np.array(k)\n",
    "fig = plt.figure()\n",
    "ax = fig.gca()\n",
    "ax.set_xticks(numpy.arange(0,1,0.1))\n",
    "ax.set_yticks(numpy.arange(0,1,0.1))\n",
    "plt.scatter(k[0], k[1], color=\"g\", label=\"LHS-MDU\")\n",
    "plt.show()"
   ]
  },
  {
   "cell_type": "code",
   "execution_count": 32,
   "id": "negative-interest",
   "metadata": {},
   "outputs": [
    {
     "data": {
      "text/plain": [
       "array([[0.31466083, 0.21596663, 0.17900832, 0.46162907, 0.00448606,\n",
       "        0.6622547 , 0.93089177, 0.53687252, 0.77697314, 0.88109352],\n",
       "       [0.64003566, 0.29471529, 0.94064627, 0.4771836 , 0.14838773,\n",
       "        0.58975323, 0.09077612, 0.80874168, 0.79364933, 0.38255348],\n",
       "       [0.27913107, 0.02009113, 0.68051192, 0.58501327, 0.82891503,\n",
       "        0.99522601, 0.30498601, 0.71499093, 0.15375811, 0.45757925],\n",
       "       [0.16451501, 0.50169691, 0.79603668, 0.40445881, 0.9143062 ,\n",
       "        0.20140145, 0.35668584, 0.69322669, 0.86659472, 0.08226575],\n",
       "       [0.70132812, 0.15420153, 0.3459563 , 0.64989679, 0.50722132,\n",
       "        0.06844354, 0.25032204, 0.87651488, 0.94852906, 0.41493816]])"
      ]
     },
     "execution_count": 32,
     "metadata": {},
     "output_type": "execute_result"
    }
   ],
   "source": [
    "k"
   ]
  },
  {
   "cell_type": "code",
   "execution_count": 41,
   "id": "cleared-pakistan",
   "metadata": {},
   "outputs": [
    {
     "data": {
      "image/png": "[encoded data removed]",
      "text/plain": [
       "<Figure size 360x360 with 1 Axes>"
      ]
     },
     "metadata": {
      "needs_background": "light"
     },
     "output_type": "display_data"
    }
   ],
   "source": [
    "# from youtube vid\n",
    "\n",
    "def latin_hypercube_2d_uniform(n):\n",
    "    lower_limits = np.arange(0, n)/n\n",
    "    upper_limits = np.arange(1, n+1)/n\n",
    "    \n",
    "    points = np.random.uniform(low=lower_limits, high=upper_limits, \n",
    "                               size=[2, n]).T\n",
    "    np.random.shuffle(points[:,1])\n",
    "    \n",
    "    return points\n",
    "\n",
    "n = 5\n",
    "p = latin_hypercube_2d_uniform(n)\n",
    "\n",
    "plt.figure(figsize=[5,5])\n",
    "plt.xlim([0,1])\n",
    "plt.ylim([0,1])\n",
    "plt.scatter(p[:,0], p[:,1], c='g')\n",
    "plt.show()"
   ]
  },
  {
   "cell_type": "code",
   "execution_count": 38,
   "id": "pacific-mercy",
   "metadata": {},
   "outputs": [
    {
     "data": {
      "text/plain": [
       "array([[0.01629478, 0.01054196],\n",
       "       [0.23866785, 0.70761893],\n",
       "       [0.59014894, 0.54343629],\n",
       "       [0.68173991, 0.9017412 ],\n",
       "       [0.89333663, 0.20751325]])"
      ]
     },
     "execution_count": 38,
     "metadata": {},
     "output_type": "execute_result"
    }
   ],
   "source": [
    "p"
   ]
  }
 ],
 "metadata": {
  "kernelspec": {
   "display_name": "Python 3",
   "language": "python",
   "name": "python3"
  },
  "language_info": {
   "codemirror_mode": {
    "name": "ipython",
    "version": 3
   },
   "file_extension": ".py",
   "mimetype": "text/x-python",
   "name": "python",
   "nbconvert_exporter": "python",
   "pygments_lexer": "ipython3",
   "version": "3.8.8"
  }
 },
 "nbformat": 4,
 "nbformat_minor": 5
}
